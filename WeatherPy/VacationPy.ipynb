{
 "cells": [
  {
   "cell_type": "markdown",
   "metadata": {},
   "source": [
    "# VacationPy\n",
    "----\n",
    "\n",
    "#### Note\n",
    "* Keep an eye on your API usage. Use https://developers.google.com/maps/reporting/gmp-reporting as reference for how to monitor your usage and billing.\n",
    "\n",
    "* Instructions have been included for each segment. You do not have to follow them exactly, but they are included to help you think through the steps."
   ]
  },
  {
   "cell_type": "code",
   "execution_count": 1,
   "metadata": {},
   "outputs": [],
   "source": [
    "# Dependencies and Setup\n",
    "import matplotlib.pyplot as plt\n",
    "import pandas as pd\n",
    "import numpy as np\n",
    "import requests\n",
    "import gmaps\n",
    "import os\n",
    "import json\n",
    "\n",
    "# Import API key\n",
    "from api_keys import g_key\n",
    "\n",
    "# Configure gmaps\n",
    "gmaps.configure(api_key=g_key)"
   ]
  },
  {
   "cell_type": "markdown",
   "metadata": {},
   "source": [
    "### Store Part I results into DataFrame\n",
    "* Load the csv exported in Part I to a DataFrame"
   ]
  },
  {
   "cell_type": "code",
   "execution_count": 2,
   "metadata": {},
   "outputs": [
    {
     "name": "stdout",
     "output_type": "stream",
     "text": [
      "569\n"
     ]
    },
    {
     "data": {
      "text/html": [
       "<div>\n",
       "<style scoped>\n",
       "    .dataframe tbody tr th:only-of-type {\n",
       "        vertical-align: middle;\n",
       "    }\n",
       "\n",
       "    .dataframe tbody tr th {\n",
       "        vertical-align: top;\n",
       "    }\n",
       "\n",
       "    .dataframe thead th {\n",
       "        text-align: right;\n",
       "    }\n",
       "</style>\n",
       "<table border=\"1\" class=\"dataframe\">\n",
       "  <thead>\n",
       "    <tr style=\"text-align: right;\">\n",
       "      <th></th>\n",
       "      <th>City</th>\n",
       "      <th>Lat</th>\n",
       "      <th>Lng</th>\n",
       "      <th>Max Temp</th>\n",
       "      <th>Humidity</th>\n",
       "      <th>Cloudiness</th>\n",
       "      <th>Wind Speed</th>\n",
       "      <th>Country</th>\n",
       "      <th>Date</th>\n",
       "    </tr>\n",
       "  </thead>\n",
       "  <tbody>\n",
       "    <tr>\n",
       "      <th>0</th>\n",
       "      <td>Hirara</td>\n",
       "      <td>24.8000</td>\n",
       "      <td>125.2833</td>\n",
       "      <td>80.28</td>\n",
       "      <td>89</td>\n",
       "      <td>97</td>\n",
       "      <td>8.28</td>\n",
       "      <td>JP</td>\n",
       "      <td>1666383577</td>\n",
       "    </tr>\n",
       "    <tr>\n",
       "      <th>1</th>\n",
       "      <td>Saint Paul Harbor</td>\n",
       "      <td>57.7900</td>\n",
       "      <td>-152.4072</td>\n",
       "      <td>49.51</td>\n",
       "      <td>46</td>\n",
       "      <td>0</td>\n",
       "      <td>17.27</td>\n",
       "      <td>US</td>\n",
       "      <td>1666383578</td>\n",
       "    </tr>\n",
       "    <tr>\n",
       "      <th>2</th>\n",
       "      <td>Walvis Bay</td>\n",
       "      <td>-22.9575</td>\n",
       "      <td>14.5053</td>\n",
       "      <td>61.75</td>\n",
       "      <td>82</td>\n",
       "      <td>1</td>\n",
       "      <td>9.22</td>\n",
       "      <td>NaN</td>\n",
       "      <td>1666383578</td>\n",
       "    </tr>\n",
       "    <tr>\n",
       "      <th>3</th>\n",
       "      <td>Turukhansk</td>\n",
       "      <td>65.8167</td>\n",
       "      <td>87.9833</td>\n",
       "      <td>33.91</td>\n",
       "      <td>98</td>\n",
       "      <td>100</td>\n",
       "      <td>18.41</td>\n",
       "      <td>RU</td>\n",
       "      <td>1666383578</td>\n",
       "    </tr>\n",
       "    <tr>\n",
       "      <th>4</th>\n",
       "      <td>Nikolskoye</td>\n",
       "      <td>59.7035</td>\n",
       "      <td>30.7861</td>\n",
       "      <td>42.69</td>\n",
       "      <td>93</td>\n",
       "      <td>100</td>\n",
       "      <td>3.27</td>\n",
       "      <td>RU</td>\n",
       "      <td>1666383579</td>\n",
       "    </tr>\n",
       "  </tbody>\n",
       "</table>\n",
       "</div>"
      ],
      "text/plain": [
       "                City      Lat       Lng  Max Temp  Humidity  Cloudiness  \\\n",
       "0             Hirara  24.8000  125.2833     80.28        89          97   \n",
       "1  Saint Paul Harbor  57.7900 -152.4072     49.51        46           0   \n",
       "2         Walvis Bay -22.9575   14.5053     61.75        82           1   \n",
       "3         Turukhansk  65.8167   87.9833     33.91        98         100   \n",
       "4         Nikolskoye  59.7035   30.7861     42.69        93         100   \n",
       "\n",
       "   Wind Speed Country        Date  \n",
       "0        8.28      JP  1666383577  \n",
       "1       17.27      US  1666383578  \n",
       "2        9.22     NaN  1666383578  \n",
       "3       18.41      RU  1666383578  \n",
       "4        3.27      RU  1666383579  "
      ]
     },
     "execution_count": 2,
     "metadata": {},
     "output_type": "execute_result"
    }
   ],
   "source": [
    "weather_data = \"./WeatherPy.csv\"\n",
    "vacation_df = pd.read_csv(weather_data)\n",
    "print(len(vacation_df))\n",
    "vacation_df.head()"
   ]
  },
  {
   "cell_type": "markdown",
   "metadata": {},
   "source": [
    "### Humidity Heatmap\n",
    "* Configure gmaps.\n",
    "* Use the Lat and Lng as locations and Humidity as the weight.\n",
    "* Add Heatmap layer to map."
   ]
  },
  {
   "cell_type": "code",
   "execution_count": 3,
   "metadata": {},
   "outputs": [],
   "source": [
    "fig = gmaps.figure()\n",
    "\n",
    "#Use the Lat and Lng as locations and Humidity as the weight.\n",
    "#store lat / long data\n",
    "locations = vacation_df[[\"Lat\", \"Lng\"]].astype(float)\n",
    "humidity = vacation_df[\"Humidity\"].astype(float)"
   ]
  },
  {
   "cell_type": "code",
   "execution_count": 4,
   "metadata": {},
   "outputs": [
    {
     "data": {
      "application/vnd.jupyter.widget-view+json": {
       "model_id": "9e32d2bac78546a4aba00b5762beef61",
       "version_major": 2,
       "version_minor": 0
      },
      "text/plain": [
       "Figure(layout=FigureLayout(border='2px solid black', height='900px', margin='0 auto 0 auto', padding='1px', wi…"
      ]
     },
     "metadata": {},
     "output_type": "display_data"
    }
   ],
   "source": [
    "#set the figure format for display \n",
    "figure_layout = {\n",
    "'width': '900px',\n",
    "'height': '900px',\n",
    "'border': '2px solid black',\n",
    "'padding': '1px',\n",
    "'margin': '0 auto 0 auto'\n",
    "}\n",
    "\n",
    "#create a heat map by location\n",
    "heat_layer = gmaps.heatmap_layer(locations, weights=humidity, \n",
    "                                 dissipating=False, max_intensity=120,\n",
    "                                 point_radius = 1)\n",
    "\n",
    "fig = gmaps.figure(layout=figure_layout)\n",
    "fig.add_layer(heat_layer)\n",
    "\n",
    "fig"
   ]
  },
  {
   "cell_type": "markdown",
   "metadata": {},
   "source": [
    "### Create new DataFrame fitting weather criteria\n",
    "* Narrow down the cities to fit weather conditions.\n",
    "* Drop any rows will null values."
   ]
  },
  {
   "cell_type": "code",
   "execution_count": 5,
   "metadata": {},
   "outputs": [
    {
     "name": "stdout",
     "output_type": "stream",
     "text": [
      "24\n"
     ]
    },
    {
     "data": {
      "text/html": [
       "<div>\n",
       "<style scoped>\n",
       "    .dataframe tbody tr th:only-of-type {\n",
       "        vertical-align: middle;\n",
       "    }\n",
       "\n",
       "    .dataframe tbody tr th {\n",
       "        vertical-align: top;\n",
       "    }\n",
       "\n",
       "    .dataframe thead th {\n",
       "        text-align: right;\n",
       "    }\n",
       "</style>\n",
       "<table border=\"1\" class=\"dataframe\">\n",
       "  <thead>\n",
       "    <tr style=\"text-align: right;\">\n",
       "      <th></th>\n",
       "      <th>City</th>\n",
       "      <th>Lat</th>\n",
       "      <th>Lng</th>\n",
       "      <th>Max Temp</th>\n",
       "      <th>Humidity</th>\n",
       "      <th>Cloudiness</th>\n",
       "      <th>Wind Speed</th>\n",
       "      <th>Country</th>\n",
       "      <th>Date</th>\n",
       "    </tr>\n",
       "  </thead>\n",
       "  <tbody>\n",
       "    <tr>\n",
       "      <th>98</th>\n",
       "      <td>Chhāpar</td>\n",
       "      <td>27.8167</td>\n",
       "      <td>74.4000</td>\n",
       "      <td>77.04</td>\n",
       "      <td>30</td>\n",
       "      <td>0</td>\n",
       "      <td>6.04</td>\n",
       "      <td>IN</td>\n",
       "      <td>1666383611</td>\n",
       "    </tr>\n",
       "    <tr>\n",
       "      <th>126</th>\n",
       "      <td>Rome</td>\n",
       "      <td>34.2570</td>\n",
       "      <td>-85.1647</td>\n",
       "      <td>73.90</td>\n",
       "      <td>28</td>\n",
       "      <td>0</td>\n",
       "      <td>3.44</td>\n",
       "      <td>US</td>\n",
       "      <td>1666383606</td>\n",
       "    </tr>\n",
       "    <tr>\n",
       "      <th>128</th>\n",
       "      <td>Mount Isa</td>\n",
       "      <td>-20.7333</td>\n",
       "      <td>139.5000</td>\n",
       "      <td>74.30</td>\n",
       "      <td>32</td>\n",
       "      <td>0</td>\n",
       "      <td>8.23</td>\n",
       "      <td>AU</td>\n",
       "      <td>1666383625</td>\n",
       "    </tr>\n",
       "    <tr>\n",
       "      <th>139</th>\n",
       "      <td>Gachsaran</td>\n",
       "      <td>30.3586</td>\n",
       "      <td>50.7981</td>\n",
       "      <td>71.69</td>\n",
       "      <td>53</td>\n",
       "      <td>0</td>\n",
       "      <td>0.00</td>\n",
       "      <td>IR</td>\n",
       "      <td>1666383629</td>\n",
       "    </tr>\n",
       "    <tr>\n",
       "      <th>178</th>\n",
       "      <td>Nador</td>\n",
       "      <td>35.1740</td>\n",
       "      <td>-2.9287</td>\n",
       "      <td>70.05</td>\n",
       "      <td>64</td>\n",
       "      <td>0</td>\n",
       "      <td>4.61</td>\n",
       "      <td>MA</td>\n",
       "      <td>1666383642</td>\n",
       "    </tr>\n",
       "  </tbody>\n",
       "</table>\n",
       "</div>"
      ],
      "text/plain": [
       "          City      Lat       Lng  Max Temp  Humidity  Cloudiness  Wind Speed  \\\n",
       "98     Chhāpar  27.8167   74.4000     77.04        30           0        6.04   \n",
       "126       Rome  34.2570  -85.1647     73.90        28           0        3.44   \n",
       "128  Mount Isa -20.7333  139.5000     74.30        32           0        8.23   \n",
       "139  Gachsaran  30.3586   50.7981     71.69        53           0        0.00   \n",
       "178      Nador  35.1740   -2.9287     70.05        64           0        4.61   \n",
       "\n",
       "    Country        Date  \n",
       "98       IN  1666383611  \n",
       "126      US  1666383606  \n",
       "128      AU  1666383625  \n",
       "139      IR  1666383629  \n",
       "178      MA  1666383642  "
      ]
     },
     "execution_count": 5,
     "metadata": {},
     "output_type": "execute_result"
    }
   ],
   "source": [
    "#Drop rows that have null values\n",
    "new_vacation_data = vacation_df.dropna()\n",
    "#set the temerature range of the ideal location\n",
    "clean_vacation_data = new_vacation_data[(new_vacation_data['Max Temp'] >= 70) \n",
    "                                        & (new_vacation_data['Max Temp'] < 80)\n",
    "                                        & (new_vacation_data['Wind Speed'] < 10)\n",
    "                                        & (new_vacation_data['Cloudiness'] == 0)]\n",
    "print(len(clean_vacation_data))\n",
    "clean_vacation_data.head()"
   ]
  },
  {
   "cell_type": "markdown",
   "metadata": {},
   "source": [
    "I decided to stick with the temperature range 70 - 80. Those are optimal temperatures for me and my family."
   ]
  },
  {
   "cell_type": "markdown",
   "metadata": {},
   "source": [
    "### Hotel Map\n",
    "* Store into variable named `hotel_df`.\n",
    "* Add a \"Hotel Name\" column to the DataFrame.\n",
    "* Set parameters to search for hotels with 5000 meters.\n",
    "* Hit the Google Places API for each city's coordinates.\n",
    "* Store the first Hotel result into the DataFrame.\n",
    "* Plot markers on top of the heatmap."
   ]
  },
  {
   "cell_type": "code",
   "execution_count": 6,
   "metadata": {},
   "outputs": [],
   "source": [
    "hotel_df = pd.DataFrame()\n",
    "hotel_df['City'] = \"\"\n",
    "hotel_df['Country']= \"\"\n",
    "hotel_df['Lat'] = \"\"\n",
    "hotel_df['Lng'] = \"\"\n",
    "hotel_df[\"Hotel Name\"] = \"\"\n",
    "\n",
    "#hotel_df.head()"
   ]
  },
  {
   "cell_type": "code",
   "execution_count": 7,
   "metadata": {},
   "outputs": [],
   "source": [
    "#Test data used to test the code prior to running on the entire data set. \n",
    "#test_data = clean_vacation_data.head()\n",
    "#test_data.head()"
   ]
  },
  {
   "cell_type": "code",
   "execution_count": 8,
   "metadata": {},
   "outputs": [],
   "source": [
    "# Set the paramters\n",
    "params = {\n",
    "    \"radius\":5000,\n",
    "    \"type\": 'hotel',\n",
    "    \"key\": g_key    \n",
    "}\n",
    "\n",
    "\n",
    "# Loop through the clean_vacation_data and grab the lat/long informatin for each city\n",
    "\n",
    "for index, row in clean_vacation_data.iterrows():\n",
    "    lat = row[\"Lat\"]\n",
    "    lng = row[\"Lng\"]\n",
    "    city= row[\"City\"]\n",
    "    country = row[\"Country\"]\n",
    "    # change location each iteration while leaving original params in place\n",
    "    params[\"location\"] = f\"{lat},{lng}\"\n",
    "    params[\"query\"] = f\"Hotel in {city}, {country}\"\n",
    "    # Use the search term: \"hotel\" , radius of 5000, and our lat/lng\n",
    "    base_url = \"https://maps.googleapis.com/maps/api/place/nearbysearch/json\"\n",
    "    \n",
    "    hotels = requests.get(base_url, params=params).json()\n",
    "    \n",
    "    try:\n",
    "        all_hotel_names = hotels[\"results\"][1][\"name\"]\n",
    "        \n",
    "\n",
    "    except Exception as e:\n",
    "        \n",
    "        print(\"did not find hotel name\")    \n",
    "        \n",
    "    try:\n",
    "        \n",
    "        lat = hotels[\"results\"][1][\"geometry\"][\"location\"]['lat']\n",
    "        lng = hotels[\"results\"][1][\"geometry\"][\"location\"]['lng']\n",
    "\n",
    "    except Exception as e:\n",
    "        \n",
    "        print(\"did not find lat/lng\")     \n",
    "        \n",
    "    hotel_df.loc[index, \"City\"] = city\n",
    "    hotel_df.loc[index, \"Country\"] = country\n",
    "    hotel_df.loc[index, \"Lat\"] = lat\n",
    "    hotel_df.loc[index, \"Lng\"] = lng\n",
    "    hotel_df.loc[index, \"Hotel Name\"] = all_hotel_names        "
   ]
  },
  {
   "cell_type": "code",
   "execution_count": 9,
   "metadata": {},
   "outputs": [
    {
     "data": {
      "text/html": [
       "<div>\n",
       "<style scoped>\n",
       "    .dataframe tbody tr th:only-of-type {\n",
       "        vertical-align: middle;\n",
       "    }\n",
       "\n",
       "    .dataframe tbody tr th {\n",
       "        vertical-align: top;\n",
       "    }\n",
       "\n",
       "    .dataframe thead th {\n",
       "        text-align: right;\n",
       "    }\n",
       "</style>\n",
       "<table border=\"1\" class=\"dataframe\">\n",
       "  <thead>\n",
       "    <tr style=\"text-align: right;\">\n",
       "      <th></th>\n",
       "      <th>City</th>\n",
       "      <th>Country</th>\n",
       "      <th>Lat</th>\n",
       "      <th>Lng</th>\n",
       "      <th>Hotel Name</th>\n",
       "    </tr>\n",
       "  </thead>\n",
       "  <tbody>\n",
       "    <tr>\n",
       "      <th>98</th>\n",
       "      <td>Chhāpar</td>\n",
       "      <td>IN</td>\n",
       "      <td>27.810582</td>\n",
       "      <td>74.434868</td>\n",
       "      <td>Tal Chhapar Forest Rest House</td>\n",
       "    </tr>\n",
       "    <tr>\n",
       "      <th>126</th>\n",
       "      <td>Rome</td>\n",
       "      <td>US</td>\n",
       "      <td>34.221266</td>\n",
       "      <td>-85.151218</td>\n",
       "      <td>La Quinta Inn &amp; Suites by Wyndham Rome</td>\n",
       "    </tr>\n",
       "    <tr>\n",
       "      <th>128</th>\n",
       "      <td>Mount Isa</td>\n",
       "      <td>AU</td>\n",
       "      <td>-20.72595</td>\n",
       "      <td>139.49257</td>\n",
       "      <td>ibis Styles Mt Isa Verona</td>\n",
       "    </tr>\n",
       "    <tr>\n",
       "      <th>139</th>\n",
       "      <td>Gachsaran</td>\n",
       "      <td>IR</td>\n",
       "      <td>30.360312</td>\n",
       "      <td>50.788067</td>\n",
       "      <td>فروشگاه رفاه</td>\n",
       "    </tr>\n",
       "    <tr>\n",
       "      <th>178</th>\n",
       "      <td>Nador</td>\n",
       "      <td>MA</td>\n",
       "      <td>35.172245</td>\n",
       "      <td>-2.927209</td>\n",
       "      <td>Hôtel La Giralda</td>\n",
       "    </tr>\n",
       "  </tbody>\n",
       "</table>\n",
       "</div>"
      ],
      "text/plain": [
       "          City Country        Lat        Lng  \\\n",
       "98     Chhāpar      IN  27.810582  74.434868   \n",
       "126       Rome      US  34.221266 -85.151218   \n",
       "128  Mount Isa      AU  -20.72595  139.49257   \n",
       "139  Gachsaran      IR  30.360312  50.788067   \n",
       "178      Nador      MA  35.172245  -2.927209   \n",
       "\n",
       "                                 Hotel Name  \n",
       "98            Tal Chhapar Forest Rest House  \n",
       "126  La Quinta Inn & Suites by Wyndham Rome  \n",
       "128               ibis Styles Mt Isa Verona  \n",
       "139                            فروشگاه رفاه  \n",
       "178                        Hôtel La Giralda  "
      ]
     },
     "execution_count": 9,
     "metadata": {},
     "output_type": "execute_result"
    }
   ],
   "source": [
    "hotel_df.head()"
   ]
  },
  {
   "cell_type": "code",
   "execution_count": 10,
   "metadata": {},
   "outputs": [],
   "source": [
    "# NOTE: Do not change any of the code in this cell\n",
    "\n",
    "# Using the template add the hotel marks to the heatmap\n",
    "info_box_template = \"\"\"\n",
    "<dl>\n",
    "<dt>Name</dt><dd>{Hotel Name}</dd>\n",
    "<dt>City</dt><dd>{City}</dd>\n",
    "<dt>Country</dt><dd>{Country}</dd>\n",
    "</dl>\n",
    "\"\"\"\n",
    "# Store the DataFrame Row\n",
    "# NOTE: be sure to update with your DataFrame name\n",
    "hotel_info = [info_box_template.format(**row) for index, row in hotel_df.iterrows()]\n",
    "locations = hotel_df[[\"Lat\", \"Lng\"]]"
   ]
  },
  {
   "cell_type": "code",
   "execution_count": 11,
   "metadata": {},
   "outputs": [],
   "source": [
    "# Add marker layer ontop of heat map\n",
    "#hotel_locs = hotel_df[[\"Lat\", \"Lng\"]].astype(float)\n",
    "markers = gmaps.marker_layer(locations, info_box_content=hotel_info)\n",
    "\n",
    "fig.add_layer(markers)"
   ]
  },
  {
   "cell_type": "code",
   "execution_count": 12,
   "metadata": {
    "scrolled": false
   },
   "outputs": [
    {
     "data": {
      "application/vnd.jupyter.widget-view+json": {
       "model_id": "9e32d2bac78546a4aba00b5762beef61",
       "version_major": 2,
       "version_minor": 0
      },
      "text/plain": [
       "Figure(layout=FigureLayout(border='2px solid black', height='900px', margin='0 auto 0 auto', padding='1px', wi…"
      ]
     },
     "metadata": {},
     "output_type": "display_data"
    }
   ],
   "source": [
    "# Display figure\n",
    "fig"
   ]
  },
  {
   "cell_type": "markdown",
   "metadata": {},
   "source": [
    "The figure above shows the ideal vacation locations based on the filtering conditions."
   ]
  },
  {
   "cell_type": "code",
   "execution_count": null,
   "metadata": {},
   "outputs": [],
   "source": []
  }
 ],
 "metadata": {
  "celltoolbar": "Raw Cell Format",
  "kernelspec": {
   "display_name": "PythonData",
   "language": "python",
   "name": "pythondata"
  },
  "language_info": {
   "codemirror_mode": {
    "name": "ipython",
    "version": 3
   },
   "file_extension": ".py",
   "mimetype": "text/x-python",
   "name": "python",
   "nbconvert_exporter": "python",
   "pygments_lexer": "ipython3",
   "version": "3.7.7"
  },
  "latex_envs": {
   "LaTeX_envs_menu_present": true,
   "autoclose": false,
   "autocomplete": true,
   "bibliofile": "biblio.bib",
   "cite_by": "apalike",
   "current_citInitial": 1,
   "eqLabelWithNumbers": true,
   "eqNumInitial": 1,
   "hotkeys": {
    "equation": "Ctrl-E",
    "itemize": "Ctrl-I"
   },
   "labels_anchors": false,
   "latex_user_defs": false,
   "report_style_numbering": false,
   "user_envs_cfg": false
  }
 },
 "nbformat": 4,
 "nbformat_minor": 4
}
