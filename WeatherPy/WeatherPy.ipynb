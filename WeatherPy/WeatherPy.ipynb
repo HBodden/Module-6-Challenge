{
 "cells": [
  {
   "cell_type": "markdown",
   "metadata": {},
   "source": [
    "# WeatherPy\n",
    "----\n",
    "\n",
    "#### Note\n",
    "* Instructions have been included for each segment. You do not have to follow them exactly, but they are included to help you think through the steps."
   ]
  },
  {
   "cell_type": "code",
   "execution_count": 1,
   "metadata": {},
   "outputs": [
    {
     "name": "stdout",
     "output_type": "stream",
     "text": [
      "Requirement already satisfied: citipy in c:\\users\\huntl\\anaconda3\\envs\\pythondata\\lib\\site-packages (0.0.5)\n",
      "Requirement already satisfied: kdtree>=0.12 in c:\\users\\huntl\\anaconda3\\envs\\pythondata\\lib\\site-packages (from citipy) (0.16)\n"
     ]
    }
   ],
   "source": [
    "! pip install citipy"
   ]
  },
  {
   "cell_type": "code",
   "execution_count": 2,
   "metadata": {
    "scrolled": true
   },
   "outputs": [],
   "source": [
    "# Dependencies and Setup\n",
    "import matplotlib.pyplot as plt\n",
    "import pandas as pd\n",
    "import numpy as np\n",
    "import requests\n",
    "import time\n",
    "from scipy.stats import linregress\n",
    "import json\n",
    "\n",
    "# Import API key\n",
    "from api_keys import weather_api_key\n",
    "\n",
    "# Incorporated citipy to determine city based on latitude and longitude\n",
    "from citipy import citipy\n",
    "\n",
    "# Output File (CSV)\n",
    "output_data_file = \"output_data/cities.csv\"\n",
    "\n",
    "# Range of latitudes and longitudes\n",
    "lat_range = (-90, 90)\n",
    "lng_range = (-180, 180)"
   ]
  },
  {
   "cell_type": "markdown",
   "metadata": {},
   "source": [
    "## Generate Cities List"
   ]
  },
  {
   "cell_type": "code",
   "execution_count": 3,
   "metadata": {},
   "outputs": [
    {
     "name": "stdout",
     "output_type": "stream",
     "text": [
      "620\n"
     ]
    }
   ],
   "source": [
    "# List for holding lat_lngs and cities\n",
    "lat_lngs = []\n",
    "cities = []\n",
    "\n",
    "# Create a set of random lat and lng combinations\n",
    "lats = np.random.uniform(lat_range[0], lat_range[1], size=1500)\n",
    "lngs = np.random.uniform(lng_range[0], lng_range[1], size=1500)\n",
    "lat_lngs = zip(lats, lngs)\n",
    "\n",
    "# Identify nearest city for each lat, lng combination\n",
    "for lat_lng in lat_lngs:\n",
    "    city = citipy.nearest_city(lat_lng[0], lat_lng[1]).city_name\n",
    "    \n",
    "    # If the city is unique, then add it to a our cities list\n",
    "    if city not in cities:\n",
    "        cities.append(city)\n",
    "\n",
    "# Print the city count to confirm sufficient count\n",
    "print(len(cities))"
   ]
  },
  {
   "cell_type": "markdown",
   "metadata": {},
   "source": [
    "### Perform API Calls\n",
    "* Perform a weather check on each city using a series of successive API calls.\n",
    "* Include a print log of each city as it'sbeing processed (with the city number and city name).\n"
   ]
  },
  {
   "cell_type": "code",
   "execution_count": 7,
   "metadata": {},
   "outputs": [],
   "source": [
    "#setting up url information\n",
    "units = 'imperial'\n",
    "url = \"http://api.openweathermap.org/data/2.5/weather?\"\n",
    "weather_url = f\"{url}appid={weather_api_key}&units={units}&q=\"\n",
    "# Build a url to ensure connection and list the data partial query URL\n",
    "#query_url = url + '&units=' + units + \"&q=\" + city + '&appid='+ api_key\n",
    "# x = requests.get(weather_url + city)\n",
    "# x = x.json()\n",
    "# print(json.dumps(x, indent=4, sort_keys=True))"
   ]
  },
  {
   "cell_type": "code",
   "execution_count": 8,
   "metadata": {},
   "outputs": [],
   "source": [
    "#City\tLat\tLng\tMax Temp\tHumidity\tCloudiness\tWind Speed\tCountry\tDate\n",
    "city_name = []\n",
    "lat = []\n",
    "lng = []\n",
    "max_temp = []\n",
    "humidity = []\n",
    "cloudiness = []\n",
    "wind_speed = []\n",
    "country = []\n",
    "date = []\n",
    "count = 1\n",
    "city_set = 1"
   ]
  },
  {
   "cell_type": "code",
   "execution_count": 9,
   "metadata": {},
   "outputs": [
    {
     "name": "stdout",
     "output_type": "stream",
     "text": [
      "Beginning Data Retrieval\n",
      "-----------------------------\n",
      "Processing record 1 of set 1 | hirara\n",
      "Processing record 2 of set 1 | kodiak\n",
      "Processing record 3 of set 1 | walvis bay\n",
      "Processing record 4 of set 1 | turukhansk\n",
      "Processing record 5 of set 1 | nikolskoye\n",
      "Processing record 6 of set 1 | jamestown\n",
      "Processing record 7 of set 1 | antofagasta\n",
      "Processing record 8 of set 1 | komsomolskiy\n",
      "Processing record 9 of set 1 | mattru\n",
      "Processing record 10 of set 1 | qaanaaq\n",
      "Processing record 11 of set 1 | cape town\n",
      "Processing record 12 of set 1 | upernavik\n",
      "Processing record 13 of set 1 | itoman\n",
      "Processing record 14 of set 1 | mataura\n",
      "Processing record 15 of set 1 | bluff\n",
      "Processing record 16 of set 1 | chuy\n",
      "Processing record 17 of set 1 | guerrero negro\n",
      "Processing record 18 of set 1 | bukama\n",
      "Processing record 19 of set 1 | bredasdorp\n",
      "Processing record 20 of set 1 | yarada\n",
      "Processing record 21 of set 1 | solovetskiy\n",
      "'name'\n",
      "City solovetskiy not found. Skipping...\n",
      "Processing record 22 of set 1 | lebu\n",
      "Processing record 23 of set 1 | tasiilaq\n",
      "Processing record 24 of set 1 | jumla\n",
      "Processing record 25 of set 1 | luderitz\n",
      "Processing record 26 of set 1 | eyl\n",
      "Processing record 27 of set 1 | coos bay\n",
      "Processing record 28 of set 1 | avarua\n",
      "Processing record 29 of set 1 | rikitea\n",
      "Processing record 30 of set 1 | williams lake\n",
      "Processing record 31 of set 1 | cabo san lucas\n",
      "Processing record 32 of set 1 | ternate\n",
      "Processing record 33 of set 1 | vanimo\n",
      "Processing record 34 of set 1 | vardo\n",
      "Processing record 35 of set 1 | neiafu\n",
      "Processing record 36 of set 1 | port alfred\n",
      "Processing record 37 of set 1 | airai\n",
      "Processing record 38 of set 1 | coahuayana\n",
      "Processing record 39 of set 1 | roanoke\n",
      "Processing record 40 of set 1 | graaff-reinet\n",
      "Processing record 41 of set 1 | hualmay\n",
      "Processing record 42 of set 1 | damavand\n",
      "Processing record 43 of set 1 | ribeira grande\n",
      "Processing record 44 of set 1 | tuktoyaktuk\n",
      "Processing record 45 of set 1 | sorland\n",
      "Processing record 46 of set 1 | punta arenas\n",
      "Processing record 47 of set 1 | anori\n",
      "Processing record 48 of set 1 | dikson\n",
      "Processing record 49 of set 1 | busselton\n",
      "Processing record 50 of set 1 | jaru\n",
      "Processing record 1 of set 2 | taolanaro\n",
      "'name'\n",
      "City taolanaro not found. Skipping...\n",
      "Processing record 2 of set 2 | lamu\n",
      "Processing record 3 of set 2 | hilo\n",
      "Processing record 4 of set 2 | wulanhaote\n",
      "'name'\n",
      "City wulanhaote not found. Skipping...\n",
      "Processing record 5 of set 2 | kudahuvadhoo\n",
      "Processing record 6 of set 2 | maldonado\n",
      "Processing record 7 of set 2 | padang\n",
      "Processing record 8 of set 2 | pando\n",
      "Processing record 9 of set 2 | chimore\n",
      "Processing record 10 of set 2 | santa rosa\n",
      "Processing record 11 of set 2 | vanavara\n",
      "Processing record 12 of set 2 | kiunga\n",
      "Processing record 13 of set 2 | igrim\n",
      "Processing record 14 of set 2 | pevek\n",
      "Processing record 15 of set 2 | hobart\n",
      "Processing record 16 of set 2 | east london\n",
      "Processing record 17 of set 2 | severo-kurilsk\n",
      "Processing record 18 of set 2 | arraial do cabo\n",
      "Processing record 19 of set 2 | subtanjalla\n",
      "Processing record 20 of set 2 | surt\n",
      "Processing record 21 of set 2 | hailar\n",
      "Processing record 22 of set 2 | angra\n",
      "'name'\n",
      "City angra not found. Skipping...\n",
      "Processing record 23 of set 2 | mahebourg\n",
      "Processing record 24 of set 2 | kaeo\n",
      "Processing record 25 of set 2 | jiddah\n",
      "'name'\n",
      "City jiddah not found. Skipping...\n",
      "Processing record 26 of set 2 | fare\n",
      "Processing record 27 of set 2 | albany\n",
      "Processing record 28 of set 2 | saskylakh\n",
      "Processing record 29 of set 2 | crab hill\n",
      "'name'\n",
      "City crab hill not found. Skipping...\n",
      "Processing record 30 of set 2 | kargasok\n",
      "Processing record 31 of set 2 | saldanha\n",
      "Processing record 32 of set 2 | chokurdakh\n",
      "Processing record 33 of set 2 | pombas\n",
      "Processing record 34 of set 2 | coquimbo\n",
      "Processing record 35 of set 2 | eldikan\n",
      "'name'\n",
      "City eldikan not found. Skipping...\n",
      "Processing record 36 of set 2 | sentyabrskiy\n",
      "'name'\n",
      "City sentyabrskiy not found. Skipping...\n",
      "Processing record 37 of set 2 | kerema\n",
      "Processing record 38 of set 2 | tura\n",
      "Processing record 39 of set 2 | itapora\n",
      "Processing record 40 of set 2 | kruisfontein\n",
      "Processing record 41 of set 2 | puerto ayora\n",
      "Processing record 42 of set 2 | kahului\n",
      "Processing record 43 of set 2 | ushuaia\n",
      "Processing record 44 of set 2 | butaritari\n",
      "Processing record 45 of set 2 | lagoa\n",
      "Processing record 46 of set 2 | dukat\n",
      "Processing record 47 of set 2 | aklavik\n",
      "Processing record 48 of set 2 | quesnel\n",
      "Processing record 49 of set 2 | hithadhoo\n",
      "Processing record 50 of set 2 | dalvik\n",
      "Processing record 1 of set 3 | estancia\n",
      "Processing record 2 of set 3 | esperance\n",
      "Processing record 3 of set 3 | pangnirtung\n",
      "Processing record 4 of set 3 | barrow\n",
      "Processing record 5 of set 3 | rusape\n",
      "Processing record 6 of set 3 | kununurra\n",
      "Processing record 7 of set 3 | chhapar\n",
      "Processing record 8 of set 3 | byron bay\n",
      "Processing record 9 of set 3 | lompoc\n",
      "Processing record 10 of set 3 | iquitos\n",
      "Processing record 11 of set 3 | khatanga\n",
      "Processing record 12 of set 3 | asau\n",
      "Processing record 13 of set 3 | fortuna\n",
      "Processing record 14 of set 3 | alice springs\n",
      "Processing record 15 of set 3 | castro\n",
      "Processing record 16 of set 3 | yerakion\n",
      "Processing record 17 of set 3 | ulaangom\n",
      "Processing record 18 of set 3 | palmer\n",
      "Processing record 19 of set 3 | kintinku\n",
      "Processing record 20 of set 3 | kulhudhuffushi\n",
      "Processing record 21 of set 3 | aimores\n",
      "Processing record 22 of set 3 | basoko\n",
      "Processing record 23 of set 3 | saint-laurent-du-var\n",
      "Processing record 24 of set 3 | kathu\n",
      "Processing record 25 of set 3 | praia\n",
      "Processing record 26 of set 3 | candido mendes\n",
      "Processing record 27 of set 3 | coihaique\n",
      "Processing record 28 of set 3 | mar del plata\n",
      "Processing record 29 of set 3 | barentsburg\n",
      "'name'\n",
      "City barentsburg not found. Skipping...\n",
      "Processing record 30 of set 3 | chontalpa\n",
      "Processing record 31 of set 3 | illoqqortoormiut\n",
      "'name'\n",
      "City illoqqortoormiut not found. Skipping...\n",
      "Processing record 32 of set 3 | sorab\n",
      "Processing record 33 of set 3 | bathsheba\n",
      "Processing record 34 of set 3 | namatanai\n",
      "Processing record 35 of set 3 | katsuura\n",
      "Processing record 36 of set 3 | nanortalik\n",
      "Processing record 37 of set 3 | rome\n",
      "Processing record 38 of set 3 | ucluelet\n",
      "Processing record 39 of set 3 | mount isa\n",
      "Processing record 40 of set 3 | saint-philippe\n",
      "Processing record 41 of set 3 | carutapera\n",
      "Processing record 42 of set 3 | blackfoot\n",
      "Processing record 43 of set 3 | ilulissat\n",
      "Processing record 44 of set 3 | salalah\n",
      "Processing record 45 of set 3 | grindavik\n",
      "Processing record 46 of set 3 | georgetown\n",
      "Processing record 47 of set 3 | burgeo\n",
      "Processing record 48 of set 3 | selfoss\n",
      "Processing record 49 of set 3 | zhongxing\n",
      "Processing record 50 of set 3 | do gonbadan\n",
      "Processing record 1 of set 4 | yinchuan\n",
      "Processing record 2 of set 4 | attawapiskat\n",
      "'name'\n",
      "City attawapiskat not found. Skipping...\n",
      "Processing record 3 of set 4 | alofi\n",
      "Processing record 4 of set 4 | bodden town\n",
      "Processing record 5 of set 4 | faya\n",
      "Processing record 6 of set 4 | pingxiang\n",
      "Processing record 7 of set 4 | port-gentil\n",
      "Processing record 8 of set 4 | hermanus\n",
      "Processing record 9 of set 4 | port elizabeth\n",
      "Processing record 10 of set 4 | maceio\n",
      "Processing record 11 of set 4 | synya\n",
      "Processing record 12 of set 4 | vaini\n",
      "Processing record 13 of set 4 | kalmunai\n",
      "Processing record 14 of set 4 | yellowknife\n",
      "Processing record 15 of set 4 | romitan\n",
      "Processing record 16 of set 4 | antalaha\n",
      "Processing record 17 of set 4 | garca\n",
      "Processing record 18 of set 4 | meyungs\n",
      "'name'\n",
      "City meyungs not found. Skipping...\n",
      "Processing record 19 of set 4 | karwar\n",
      "Processing record 20 of set 4 | clyde river\n",
      "Processing record 21 of set 4 | kavieng\n",
      "Processing record 22 of set 4 | belushya guba\n",
      "'name'\n",
      "City belushya guba not found. Skipping...\n",
      "Processing record 23 of set 4 | preobrazheniye\n",
      "Processing record 24 of set 4 | provideniya\n",
      "Processing record 25 of set 4 | yulara\n",
      "Processing record 26 of set 4 | olive branch\n",
      "Processing record 27 of set 4 | chippewa falls\n",
      "Processing record 28 of set 4 | gushikawa\n",
      "Processing record 29 of set 4 | damghan\n",
      "Processing record 30 of set 4 | cap-aux-meules\n",
      "Processing record 31 of set 4 | sechura\n",
      "Processing record 32 of set 4 | narsaq\n",
      "Processing record 33 of set 4 | bambous virieux\n",
      "Processing record 34 of set 4 | terra santa\n"
     ]
    },
    {
     "name": "stdout",
     "output_type": "stream",
     "text": [
      "Processing record 35 of set 4 | hyeres\n",
      "Processing record 36 of set 4 | abdanan\n",
      "Processing record 37 of set 4 | tumannyy\n",
      "'name'\n",
      "City tumannyy not found. Skipping...\n",
      "Processing record 38 of set 4 | boende\n",
      "Processing record 39 of set 4 | billings\n",
      "Processing record 40 of set 4 | hami\n",
      "Processing record 41 of set 4 | turnov\n",
      "Processing record 42 of set 4 | gamba\n",
      "Processing record 43 of set 4 | nador\n",
      "Processing record 44 of set 4 | shelopugino\n",
      "Processing record 45 of set 4 | seoul\n",
      "Processing record 46 of set 4 | saint george\n",
      "Processing record 47 of set 4 | tual\n",
      "Processing record 48 of set 4 | bucerias\n",
      "Processing record 49 of set 4 | griffith\n",
      "Processing record 50 of set 4 | baruun-urt\n",
      "Processing record 1 of set 5 | lisala\n",
      "Processing record 2 of set 5 | nome\n",
      "Processing record 3 of set 5 | ponta do sol\n",
      "Processing record 4 of set 5 | lumeje\n",
      "Processing record 5 of set 5 | olinda\n",
      "Processing record 6 of set 5 | iqaluit\n",
      "Processing record 7 of set 5 | atuona\n",
      "Processing record 8 of set 5 | cidreira\n",
      "Processing record 9 of set 5 | samarai\n",
      "Processing record 10 of set 5 | marcona\n",
      "'name'\n",
      "City marcona not found. Skipping...\n",
      "Processing record 11 of set 5 | bandarbeyla\n",
      "Processing record 12 of set 5 | lashio\n",
      "Processing record 13 of set 5 | gizo\n",
      "Processing record 14 of set 5 | pattani\n",
      "Processing record 15 of set 5 | louisbourg\n",
      "'name'\n",
      "City louisbourg not found. Skipping...\n",
      "Processing record 16 of set 5 | nuuk\n",
      "Processing record 17 of set 5 | sainte-suzanne\n",
      "Processing record 18 of set 5 | yoichi\n",
      "Processing record 19 of set 5 | sao filipe\n",
      "Processing record 20 of set 5 | codrington\n",
      "Processing record 21 of set 5 | evensk\n",
      "Processing record 22 of set 5 | vila franca do campo\n",
      "Processing record 23 of set 5 | florence\n",
      "Processing record 24 of set 5 | sungairaya\n",
      "Processing record 25 of set 5 | hasaki\n",
      "Processing record 26 of set 5 | carnarvon\n",
      "Processing record 27 of set 5 | ellisras\n",
      "Processing record 28 of set 5 | goudomp\n",
      "'name'\n",
      "City goudomp not found. Skipping...\n",
      "Processing record 29 of set 5 | klaksvik\n",
      "Processing record 30 of set 5 | labuhan\n",
      "Processing record 31 of set 5 | norman wells\n",
      "Processing record 32 of set 5 | vaitupu\n",
      "'name'\n",
      "City vaitupu not found. Skipping...\n",
      "Processing record 33 of set 5 | medea\n",
      "Processing record 34 of set 5 | noyabrsk\n",
      "Processing record 35 of set 5 | serra\n",
      "Processing record 36 of set 5 | mecca\n",
      "Processing record 37 of set 5 | college\n",
      "Processing record 38 of set 5 | chapais\n",
      "Processing record 39 of set 5 | sisimiut\n",
      "Processing record 40 of set 5 | avdiyivka\n",
      "Processing record 41 of set 5 | thompson\n",
      "Processing record 42 of set 5 | hobyo\n",
      "Processing record 43 of set 5 | tapiramuta\n",
      "Processing record 44 of set 5 | lokosovo\n",
      "Processing record 45 of set 5 | kutum\n",
      "Processing record 46 of set 5 | ukiah\n",
      "Processing record 47 of set 5 | taltal\n",
      "Processing record 48 of set 5 | ishigaki\n",
      "Processing record 49 of set 5 | tommot\n",
      "Processing record 50 of set 5 | sorvag\n",
      "'name'\n",
      "City sorvag not found. Skipping...\n",
      "Processing record 51 of set 5 | bera\n",
      "Processing record 1 of set 6 | kirakira\n",
      "Processing record 2 of set 6 | cherskiy\n",
      "Processing record 3 of set 6 | ahipara\n",
      "Processing record 4 of set 6 | egvekinot\n",
      "Processing record 5 of set 6 | eskasem\n",
      "'name'\n",
      "City eskasem not found. Skipping...\n",
      "Processing record 6 of set 6 | kaduna\n",
      "Processing record 7 of set 6 | sur\n",
      "Processing record 8 of set 6 | grand river south east\n",
      "'name'\n",
      "City grand river south east not found. Skipping...\n",
      "Processing record 9 of set 6 | amapa\n",
      "Processing record 10 of set 6 | longyearbyen\n",
      "Processing record 11 of set 6 | comodoro rivadavia\n",
      "Processing record 12 of set 6 | srednekolymsk\n",
      "Processing record 13 of set 6 | kapustin yar-1\n",
      "'name'\n",
      "City kapustin yar-1 not found. Skipping...\n",
      "Processing record 14 of set 6 | lavrentiya\n",
      "Processing record 15 of set 6 | teahupoo\n",
      "Processing record 16 of set 6 | teacapan\n",
      "Processing record 17 of set 6 | pisco\n",
      "Processing record 18 of set 6 | buritis\n",
      "Processing record 19 of set 6 | bosaso\n",
      "Processing record 20 of set 6 | merrill\n",
      "Processing record 21 of set 6 | port macquarie\n",
      "Processing record 22 of set 6 | maniitsoq\n",
      "Processing record 23 of set 6 | yar-sale\n",
      "Processing record 24 of set 6 | port lincoln\n",
      "Processing record 25 of set 6 | fairbanks\n",
      "Processing record 26 of set 6 | novyy svit\n",
      "Processing record 27 of set 6 | oranjemund\n",
      "Processing record 28 of set 6 | northam\n",
      "Processing record 29 of set 6 | los llanos de aridane\n",
      "Processing record 30 of set 6 | hohhot\n",
      "Processing record 31 of set 6 | broken hill\n",
      "Processing record 32 of set 6 | riyadh\n",
      "Processing record 33 of set 6 | presidencia roque saenz pena\n",
      "Processing record 34 of set 6 | selma\n",
      "Processing record 35 of set 6 | tuatapere\n",
      "Processing record 36 of set 6 | iskateley\n",
      "Processing record 37 of set 6 | kapaa\n",
      "Processing record 38 of set 6 | bilma\n",
      "Processing record 39 of set 6 | elat\n",
      "Processing record 40 of set 6 | chone\n",
      "Processing record 41 of set 6 | kargopol\n",
      "Processing record 42 of set 6 | lasa\n",
      "Processing record 43 of set 6 | kamaishi\n",
      "Processing record 44 of set 6 | pacific grove\n",
      "Processing record 45 of set 6 | quzhou\n",
      "Processing record 46 of set 6 | tessalit\n",
      "Processing record 47 of set 6 | bereda\n",
      "Processing record 48 of set 6 | guiyang\n",
      "Processing record 49 of set 6 | astara\n",
      "Processing record 50 of set 6 | ormara\n",
      "Processing record 1 of set 7 | conceicao da barra\n",
      "Processing record 2 of set 7 | le port\n",
      "Processing record 3 of set 7 | sioux lookout\n",
      "Processing record 4 of set 7 | aktash\n",
      "Processing record 5 of set 7 | nexo\n",
      "Processing record 6 of set 7 | nishihara\n",
      "Processing record 7 of set 7 | shitanjing\n",
      "Processing record 8 of set 7 | emerald\n",
      "Processing record 9 of set 7 | nueva loja\n",
      "Processing record 10 of set 7 | hamilton\n",
      "Processing record 11 of set 7 | muros\n",
      "Processing record 12 of set 7 | nizwa\n",
      "Processing record 13 of set 7 | moree\n",
      "Processing record 14 of set 7 | shingu\n",
      "Processing record 15 of set 7 | greymouth\n",
      "Processing record 16 of set 7 | kalabo\n",
      "Processing record 17 of set 7 | warqla\n",
      "'name'\n",
      "City warqla not found. Skipping...\n",
      "Processing record 18 of set 7 | bismarck\n",
      "Processing record 19 of set 7 | karratha\n",
      "Processing record 20 of set 7 | flinders\n",
      "Processing record 21 of set 7 | vao\n",
      "Processing record 22 of set 7 | faanui\n",
      "Processing record 23 of set 7 | morristown\n",
      "Processing record 24 of set 7 | say\n",
      "Processing record 25 of set 7 | port hardy\n",
      "Processing record 26 of set 7 | saint-francois\n",
      "Processing record 27 of set 7 | souillac\n",
      "Processing record 28 of set 7 | mys shmidta\n",
      "'name'\n",
      "City mys shmidta not found. Skipping...\n",
      "Processing record 29 of set 7 | tsihombe\n",
      "'name'\n",
      "City tsihombe not found. Skipping...\n",
      "Processing record 30 of set 7 | pinos\n",
      "Processing record 31 of set 7 | paamiut\n",
      "Processing record 32 of set 7 | mizan teferi\n",
      "Processing record 33 of set 7 | launceston\n",
      "Processing record 34 of set 7 | puerto baquerizo moreno\n",
      "Processing record 35 of set 7 | obo\n",
      "Processing record 36 of set 7 | play cu\n",
      "'name'\n",
      "City play cu not found. Skipping...\n",
      "Processing record 37 of set 7 | rabo de peixe\n",
      "Processing record 38 of set 7 | dengzhou\n",
      "Processing record 39 of set 7 | manggar\n",
      "Processing record 40 of set 7 | biak\n",
      "Processing record 41 of set 7 | ulaanbaatar\n",
      "Processing record 42 of set 7 | bethel\n",
      "Processing record 43 of set 7 | pavlodar\n",
      "Processing record 44 of set 7 | fairmont\n",
      "Processing record 45 of set 7 | trelew\n",
      "Processing record 46 of set 7 | victoria\n",
      "Processing record 47 of set 7 | vostok\n",
      "Processing record 48 of set 7 | new norfolk\n",
      "Processing record 49 of set 7 | olavarria\n",
      "Processing record 50 of set 7 | hambantota\n",
      "Processing record 1 of set 8 | san cristobal\n",
      "Processing record 2 of set 8 | saleaula\n",
      "'name'\n",
      "City saleaula not found. Skipping...\n",
      "Processing record 3 of set 8 | svetlogorsk\n",
      "Processing record 4 of set 8 | qaqortoq\n",
      "Processing record 5 of set 8 | ostrovnoy\n",
      "Processing record 6 of set 8 | puerto carreno\n",
      "Processing record 7 of set 8 | bilibino\n",
      "Processing record 8 of set 8 | burgos\n",
      "Processing record 9 of set 8 | aberdeen\n",
      "Processing record 10 of set 8 | isangel\n",
      "Processing record 11 of set 8 | adrar\n",
      "Processing record 12 of set 8 | mikhaylovka\n",
      "Processing record 13 of set 8 | miyako\n",
      "Processing record 14 of set 8 | yunjinghong\n",
      "'name'\n",
      "City yunjinghong not found. Skipping...\n",
      "Processing record 15 of set 8 | tarudant\n",
      "'name'\n",
      "City tarudant not found. Skipping...\n",
      "Processing record 16 of set 8 | abha\n"
     ]
    },
    {
     "name": "stdout",
     "output_type": "stream",
     "text": [
      "Processing record 17 of set 8 | never\n",
      "Processing record 18 of set 8 | tongren\n",
      "Processing record 19 of set 8 | karaul\n",
      "'name'\n",
      "City karaul not found. Skipping...\n",
      "Processing record 20 of set 8 | jinchang\n",
      "Processing record 21 of set 8 | huangzhou\n",
      "Processing record 22 of set 8 | eregli\n",
      "Processing record 23 of set 8 | lodwar\n",
      "Processing record 24 of set 8 | thai binh\n",
      "Processing record 25 of set 8 | novopokrovka\n",
      "Processing record 26 of set 8 | kudirkos naumiestis\n",
      "Processing record 27 of set 8 | ajdabiya\n",
      "Processing record 28 of set 8 | mayo\n",
      "Processing record 29 of set 8 | christchurch\n",
      "Processing record 30 of set 8 | buenos aires\n",
      "Processing record 31 of set 8 | tecoanapa\n",
      "Processing record 32 of set 8 | cockburn town\n",
      "Processing record 33 of set 8 | anadyr\n",
      "Processing record 34 of set 8 | talnakh\n",
      "Processing record 35 of set 8 | conceicao do araguaia\n",
      "Processing record 36 of set 8 | izhevskoye\n",
      "Processing record 37 of set 8 | rungata\n",
      "'name'\n",
      "City rungata not found. Skipping...\n",
      "Processing record 38 of set 8 | darnah\n",
      "Processing record 39 of set 8 | roma\n",
      "Processing record 40 of set 8 | bengkulu\n",
      "Processing record 41 of set 8 | akdepe\n",
      "Processing record 42 of set 8 | grande-riviere\n",
      "'name'\n",
      "City grande-riviere not found. Skipping...\n",
      "Processing record 43 of set 8 | angoram\n",
      "Processing record 44 of set 8 | kasamwa\n",
      "Processing record 45 of set 8 | catmondaan\n",
      "Processing record 46 of set 8 | bhadrapur\n",
      "Processing record 47 of set 8 | bud\n",
      "Processing record 48 of set 8 | orotukan\n",
      "Processing record 49 of set 8 | hovd\n",
      "Processing record 50 of set 8 | narayanpet\n",
      "Processing record 1 of set 9 | sovetskiy\n",
      "Processing record 2 of set 9 | yeniseysk\n",
      "Processing record 3 of set 9 | hurghada\n",
      "Processing record 4 of set 9 | guiratinga\n",
      "Processing record 5 of set 9 | rotnes\n",
      "Processing record 6 of set 9 | belmonte\n",
      "Processing record 7 of set 9 | porto nacional\n",
      "Processing record 8 of set 9 | te anau\n",
      "Processing record 9 of set 9 | panguna\n",
      "Processing record 10 of set 9 | lorengau\n",
      "Processing record 11 of set 9 | tarlungeni\n",
      "Processing record 12 of set 9 | arkansas city\n",
      "Processing record 13 of set 9 | chase\n",
      "Processing record 14 of set 9 | sobolevo\n",
      "Processing record 15 of set 9 | tripoli\n",
      "Processing record 16 of set 9 | tilichiki\n",
      "Processing record 17 of set 9 | najran\n",
      "Processing record 18 of set 9 | tolga\n",
      "Processing record 19 of set 9 | maturin\n",
      "Processing record 20 of set 9 | amderma\n",
      "'name'\n",
      "City amderma not found. Skipping...\n",
      "Processing record 21 of set 9 | cururupu\n",
      "Processing record 22 of set 9 | lolua\n",
      "'name'\n",
      "City lolua not found. Skipping...\n",
      "Processing record 23 of set 9 | sal rei\n",
      "Processing record 24 of set 9 | uwayl\n",
      "'name'\n",
      "City uwayl not found. Skipping...\n",
      "Processing record 25 of set 9 | labutta\n",
      "'name'\n",
      "City labutta not found. Skipping...\n",
      "Processing record 26 of set 9 | sehithwa\n",
      "Processing record 27 of set 9 | poum\n",
      "Processing record 28 of set 9 | eston\n",
      "Processing record 29 of set 9 | saint-pierre\n",
      "Processing record 30 of set 9 | okato\n",
      "Processing record 31 of set 9 | alta\n",
      "Processing record 32 of set 9 | charters towers\n",
      "Processing record 33 of set 9 | tshikapa\n",
      "Processing record 34 of set 9 | baoying\n",
      "Processing record 35 of set 9 | krutinka\n",
      "Processing record 36 of set 9 | chipinge\n",
      "Processing record 37 of set 9 | leh\n",
      "Processing record 38 of set 9 | dingle\n",
      "Processing record 39 of set 9 | buraydah\n",
      "Processing record 40 of set 9 | morondava\n",
      "Processing record 41 of set 9 | sao joao da barra\n",
      "Processing record 42 of set 9 | berdigestyakh\n",
      "Processing record 43 of set 9 | lidkoping\n",
      "Processing record 44 of set 9 | san patricio\n",
      "Processing record 45 of set 9 | trairi\n",
      "Processing record 46 of set 9 | mackay\n",
      "Processing record 47 of set 9 | camden\n",
      "Processing record 48 of set 9 | abreu e lima\n",
      "Processing record 49 of set 9 | araouane\n",
      "Processing record 50 of set 9 | nizhneyansk\n",
      "'name'\n",
      "City nizhneyansk not found. Skipping...\n",
      "Processing record 51 of set 9 | ibirama\n",
      "Processing record 1 of set 10 | carauari\n",
      "Processing record 2 of set 10 | pandrup\n",
      "Processing record 3 of set 10 | kawalu\n",
      "Processing record 4 of set 10 | kepanjen\n",
      "Processing record 5 of set 10 | mukono\n",
      "Processing record 6 of set 10 | moose factory\n",
      "Processing record 7 of set 10 | torbay\n",
      "Processing record 8 of set 10 | ancud\n",
      "Processing record 9 of set 10 | zhangjiakou\n",
      "Processing record 10 of set 10 | udalguri\n",
      "Processing record 11 of set 10 | quatre cocos\n",
      "Processing record 12 of set 10 | fartura\n",
      "Processing record 13 of set 10 | la asuncion\n",
      "Processing record 14 of set 10 | henties bay\n",
      "Processing record 15 of set 10 | tevaitoa\n",
      "Processing record 16 of set 10 | alcaniz\n",
      "Processing record 17 of set 10 | tiksi\n",
      "Processing record 18 of set 10 | roald\n",
      "Processing record 19 of set 10 | hilton head island\n",
      "Processing record 20 of set 10 | koygorodok\n",
      "Processing record 21 of set 10 | saurimo\n",
      "Processing record 22 of set 10 | gao\n",
      "Processing record 23 of set 10 | touros\n",
      "Processing record 24 of set 10 | san quintin\n",
      "Processing record 25 of set 10 | tucuman\n",
      "Processing record 26 of set 10 | naze\n",
      "Processing record 27 of set 10 | la reforma\n",
      "Processing record 28 of set 10 | ketchikan\n",
      "Processing record 29 of set 10 | dwarka\n",
      "Processing record 30 of set 10 | natal\n",
      "Processing record 31 of set 10 | tawkar\n",
      "'name'\n",
      "City tawkar not found. Skipping...\n",
      "Processing record 32 of set 10 | tabiauea\n",
      "'name'\n",
      "City tabiauea not found. Skipping...\n",
      "Processing record 33 of set 10 | beringovskiy\n",
      "Processing record 34 of set 10 | panjab\n",
      "Processing record 35 of set 10 | flin flon\n",
      "Processing record 36 of set 10 | novooleksiyivka\n",
      "Processing record 37 of set 10 | ugoofaaru\n",
      "Processing record 38 of set 10 | samalaeulu\n",
      "'name'\n",
      "City samalaeulu not found. Skipping...\n",
      "Processing record 39 of set 10 | brae\n",
      "Processing record 40 of set 10 | the valley\n",
      "Processing record 41 of set 10 | san jose\n",
      "Processing record 42 of set 10 | matay\n",
      "Processing record 43 of set 10 | tynda\n",
      "Processing record 44 of set 10 | eydhafushi\n",
      "Processing record 45 of set 10 | oistins\n",
      "Processing record 46 of set 10 | zalesovo\n",
      "Processing record 47 of set 10 | manaure\n",
      "Processing record 48 of set 10 | kijang\n",
      "Processing record 49 of set 10 | karamea\n",
      "'name'\n",
      "City karamea not found. Skipping...\n",
      "Processing record 50 of set 10 | alto araguaia\n",
      "Processing record 1 of set 11 | myitkyina\n",
      "Processing record 2 of set 11 | dawson\n",
      "Processing record 3 of set 11 | itacarambi\n",
      "Processing record 4 of set 11 | aflu\n",
      "'name'\n",
      "City aflu not found. Skipping...\n",
      "Processing record 5 of set 11 | progreso\n",
      "Processing record 6 of set 11 | omsukchan\n",
      "Processing record 7 of set 11 | atar\n",
      "Processing record 8 of set 11 | kashary\n",
      "Processing record 9 of set 11 | olafsvik\n",
      "Processing record 10 of set 11 | opuwo\n",
      "Processing record 11 of set 11 | baglung\n",
      "Processing record 12 of set 11 | cayenne\n",
      "Processing record 13 of set 11 | pangody\n",
      "Processing record 14 of set 11 | kitimat\n",
      "Processing record 15 of set 11 | tanshui\n",
      "'name'\n",
      "City tanshui not found. Skipping...\n",
      "Processing record 16 of set 11 | yaan\n",
      "Processing record 17 of set 11 | agnibilekrou\n",
      "Processing record 18 of set 11 | elk point\n",
      "Processing record 19 of set 11 | matata\n",
      "Processing record 20 of set 11 | aksarka\n",
      "Processing record 21 of set 11 | san pedro\n",
      "Processing record 22 of set 11 | sao jose da coroa grande\n",
      "Processing record 23 of set 11 | bur gabo\n",
      "'name'\n",
      "City bur gabo not found. Skipping...\n",
      "Processing record 24 of set 11 | kamiiso\n",
      "Processing record 25 of set 11 | sankeshwar\n",
      "Processing record 26 of set 11 | boyuibe\n",
      "Processing record 27 of set 11 | ugra\n",
      "Processing record 28 of set 11 | ningan\n",
      "'name'\n",
      "City ningan not found. Skipping...\n",
      "Processing record 29 of set 11 | omboue\n",
      "Processing record 30 of set 11 | leningradskiy\n",
      "Processing record 31 of set 11 | pacifica\n",
      "Processing record 32 of set 11 | urdzhar\n",
      "'name'\n",
      "City urdzhar not found. Skipping...\n",
      "Processing record 33 of set 11 | lebedinyy\n",
      "Processing record 34 of set 11 | guilin\n",
      "Processing record 35 of set 11 | cairns\n",
      "Processing record 36 of set 11 | necochea\n",
      "Processing record 37 of set 11 | dig\n",
      "Processing record 38 of set 11 | pudozh\n",
      "Processing record 39 of set 11 | kribi\n",
      "Processing record 40 of set 11 | ozgon\n",
      "'name'\n",
      "City ozgon not found. Skipping...\n",
      "Processing record 41 of set 11 | meadow lake\n",
      "Processing record 42 of set 11 | recea\n",
      "Processing record 43 of set 11 | afmadu\n",
      "'name'\n",
      "City afmadu not found. Skipping...\n",
      "Processing record 44 of set 11 | karlstad\n"
     ]
    },
    {
     "name": "stdout",
     "output_type": "stream",
     "text": [
      "Processing record 45 of set 11 | kholtoson\n",
      "Processing record 46 of set 11 | juba\n",
      "Processing record 47 of set 11 | aktau\n",
      "Processing record 48 of set 11 | kavaratti\n",
      "Processing record 49 of set 11 | sao lourenco do sul\n",
      "Processing record 50 of set 11 | villablino\n",
      "Processing record 1 of set 12 | shangqiu\n",
      "Processing record 2 of set 12 | praia da vitoria\n",
      "Processing record 3 of set 12 | sao francisco\n",
      "Processing record 4 of set 12 | otane\n",
      "Processing record 5 of set 12 | linkoping\n",
      "Processing record 6 of set 12 | wang saphung\n",
      "Processing record 7 of set 12 | pontianak\n",
      "Processing record 8 of set 12 | kirovo-chepetsk\n",
      "Processing record 9 of set 12 | ponta delgada\n",
      "Processing record 10 of set 12 | lotoshino\n",
      "Processing record 11 of set 12 | carballo\n",
      "Processing record 12 of set 12 | la ronge\n",
      "Processing record 13 of set 12 | puerto leguizamo\n",
      "Processing record 14 of set 12 | ndola\n",
      "Processing record 15 of set 12 | buala\n",
      "Processing record 16 of set 12 | madaoua\n",
      "Processing record 17 of set 12 | ventspils\n",
      "Processing record 18 of set 12 | marshfield\n",
      "Processing record 19 of set 12 | vestmannaeyjar\n",
      "Processing record 20 of set 12 | tibagi\n",
      "Processing record 21 of set 12 | vandra\n",
      "Processing record 22 of set 12 | nouadhibou\n",
      "Processing record 23 of set 12 | oktyabrskiy\n",
      "Processing record 24 of set 12 | tselinnoye\n",
      "Processing record 25 of set 12 | klyuchevskiy\n",
      "Processing record 26 of set 12 | haines junction\n",
      "Processing record 27 of set 12 | suraabad\n",
      "Processing record 28 of set 12 | kattivakkam\n",
      "Processing record 29 of set 12 | inuvik\n",
      "Processing record 30 of set 12 | tecpan\n",
      "Processing record 31 of set 12 | kandrian\n",
      "Processing record 32 of set 12 | novoanninskiy\n",
      "Processing record 33 of set 12 | makushino\n",
      "Processing record 34 of set 12 | rantauprapat\n",
      "Processing record 35 of set 12 | dryden\n",
      "Processing record 36 of set 12 | kollumerland\n",
      "'name'\n",
      "City kollumerland not found. Skipping...\n",
      "Processing record 37 of set 12 | rawson\n",
      "Processing record 38 of set 12 | aswan\n",
      "Processing record 39 of set 12 | lumsden\n",
      "Processing record 40 of set 12 | itaueira\n",
      "Processing record 41 of set 12 | camacha\n",
      "Processing record 42 of set 12 | saint-denis\n",
      "Processing record 43 of set 12 | nelson bay\n",
      "Processing record 44 of set 12 | portland\n",
      "Processing record 45 of set 12 | kodino\n",
      "Processing record 46 of set 12 | russell\n",
      "Processing record 47 of set 12 | rupert\n",
      "Processing record 48 of set 12 | husavik\n",
      "Processing record 49 of set 12 | westpunt\n",
      "'name'\n",
      "City westpunt not found. Skipping...\n",
      "Processing record 50 of set 12 | ahuimanu\n",
      "Processing record 1 of set 13 | zmeinogorsk\n",
      "Processing record 2 of set 13 | sitka\n",
      "Processing record 3 of set 13 | balabac\n",
      "Processing record 4 of set 13 | brigantine\n",
      "Processing record 5 of set 13 | kupang\n",
      "Processing record 6 of set 13 | dewa\n",
      "Processing record 7 of set 13 | athabasca\n",
      "Processing record 8 of set 13 | zaysan\n",
      "Processing record 9 of set 13 | mangrol\n",
      "Processing record 10 of set 13 | pitea\n",
      "Processing record 11 of set 13 | krasnyy chikoy\n",
      "Processing record 12 of set 13 | palabuhanratu\n",
      "'name'\n",
      "City palabuhanratu not found. Skipping...\n",
      "Processing record 13 of set 13 | linhares\n",
      "Processing record 14 of set 13 | burnie\n",
      "Processing record 15 of set 13 | oktyabrskoye\n",
      "Processing record 16 of set 13 | doka\n",
      "Processing record 17 of set 13 | palmas\n",
      "Processing record 18 of set 13 | tondano\n",
      "-----------------------------\n",
      "Data Retrieval Complete\n",
      "-----------------------------\n"
     ]
    }
   ],
   "source": [
    "#Retrieve the location information from the weather API \n",
    "print('Beginning Data Retrieval')     \n",
    "print('-----------------------------')\n",
    "\n",
    "for city in cities:\n",
    "    print(f'Processing record {count} of set {city_set} | {city}')\n",
    "     \n",
    "    response = requests.get(weather_url + city).json()    \n",
    "    #print(json.dumps(response, indent=4, sort_keys=True))   \n",
    "    \n",
    "    try:\n",
    "        city_name.append(response['name'])\n",
    "        lat.append(response['coord']['lat'])\n",
    "        lng.append(response['coord']['lon'])\n",
    "        max_temp.append(response['main']['temp_max'])\n",
    "        humidity.append(response['main']['humidity'])\n",
    "        cloudiness.append(response['clouds']['all'])\n",
    "        wind_speed.append(response['wind']['speed'])\n",
    "        country.append(response['sys']['country'])\n",
    "        date.append(response['dt'])\n",
    "        \n",
    "        if count < 50:\n",
    "            count = count + 1\n",
    "        else:\n",
    "            count = 1\n",
    "            city_set = city_set + 1\n",
    "        \n",
    "    except Exception as e:\n",
    "        # Append null values\n",
    "        print(e)\n",
    "        print(f\"City {city} not found. Skipping...\")\n",
    "        count = count + 1\n",
    "        pass\n",
    "print('-----------------------------')                         \n",
    "print('Data Retrieval Complete')    \n",
    "print('-----------------------------')"
   ]
  },
  {
   "cell_type": "code",
   "execution_count": null,
   "metadata": {},
   "outputs": [],
   "source": []
  },
  {
   "cell_type": "markdown",
   "metadata": {
    "scrolled": true
   },
   "source": [
    "Processing Record 1 of Set 1 | butaritari\n",
    "Processing Record 2 of Set 1 | yerbogachen\n",
    "Processing Record 3 of Set 1 | cape town\n",
    "Processing Record 4 of Set 1 | touba\n",
    "Processing Record 5 of Set 1 | jamestown\n",
    "Processing Record 6 of Set 1 | rio grande\n",
    "Processing Record 7 of Set 1 | ibra\n",
    "Processing Record 8 of Set 1 | port elizabeth\n",
    "Processing Record 9 of Set 1 | tuktoyaktuk\n",
    "Processing Record 10 of Set 1 | avarua\n",
    "Processing Record 11 of Set 1 | nemuro\n",
    "Processing Record 12 of Set 1 | morgan city\n",
    "Processing Record 13 of Set 1 | hobart\n",
    "Processing Record 14 of Set 1 | kawalu\n",
    "Processing Record 15 of Set 1 | hami\n",
    "Processing Record 16 of Set 1 | ushuaia\n",
    "Processing Record 17 of Set 1 | katsuura\n",
    "Processing Record 18 of Set 1 | hjallerup\n",
    "Processing Record 19 of Set 1 | punta arenas\n",
    "Processing Record 20 of Set 1 | bengkulu\n",
    "Processing Record 21 of Set 1 | victoria\n",
    "Processing Record 22 of Set 1 | rangapara\n",
    "Processing Record 23 of Set 1 | hithadhoo\n",
    "...\n",
    "Processing Record 32 of Set 4 | plettenberg bay\n",
    "Processing Record 33 of Set 4 | lorengau\n",
    "Processing Record 34 of Set 4 | hay river\n",
    "Processing Record 35 of Set 4 | kodiak"
   ]
  },
  {
   "cell_type": "markdown",
   "metadata": {},
   "source": [
    "### Convert Raw Data to DataFrame\n",
    "* Export the city data into a .csv.\n",
    "* Display the DataFrame"
   ]
  },
  {
   "cell_type": "code",
   "execution_count": 10,
   "metadata": {},
   "outputs": [
    {
     "data": {
      "text/html": [
       "<div>\n",
       "<style scoped>\n",
       "    .dataframe tbody tr th:only-of-type {\n",
       "        vertical-align: middle;\n",
       "    }\n",
       "\n",
       "    .dataframe tbody tr th {\n",
       "        vertical-align: top;\n",
       "    }\n",
       "\n",
       "    .dataframe thead th {\n",
       "        text-align: right;\n",
       "    }\n",
       "</style>\n",
       "<table border=\"1\" class=\"dataframe\">\n",
       "  <thead>\n",
       "    <tr style=\"text-align: right;\">\n",
       "      <th></th>\n",
       "      <th>City</th>\n",
       "      <th>Lat</th>\n",
       "      <th>Lng</th>\n",
       "      <th>Max Temp</th>\n",
       "      <th>Humidity</th>\n",
       "      <th>Cloudiness</th>\n",
       "      <th>Wind Speed</th>\n",
       "      <th>Country</th>\n",
       "      <th>Date</th>\n",
       "    </tr>\n",
       "  </thead>\n",
       "  <tbody>\n",
       "    <tr>\n",
       "      <th>0</th>\n",
       "      <td>Hirara</td>\n",
       "      <td>24.8000</td>\n",
       "      <td>125.2833</td>\n",
       "      <td>80.28</td>\n",
       "      <td>89</td>\n",
       "      <td>97</td>\n",
       "      <td>8.28</td>\n",
       "      <td>JP</td>\n",
       "      <td>1666383577</td>\n",
       "    </tr>\n",
       "    <tr>\n",
       "      <th>1</th>\n",
       "      <td>Saint Paul Harbor</td>\n",
       "      <td>57.7900</td>\n",
       "      <td>-152.4072</td>\n",
       "      <td>49.51</td>\n",
       "      <td>46</td>\n",
       "      <td>0</td>\n",
       "      <td>17.27</td>\n",
       "      <td>US</td>\n",
       "      <td>1666383578</td>\n",
       "    </tr>\n",
       "    <tr>\n",
       "      <th>2</th>\n",
       "      <td>Walvis Bay</td>\n",
       "      <td>-22.9575</td>\n",
       "      <td>14.5053</td>\n",
       "      <td>61.75</td>\n",
       "      <td>82</td>\n",
       "      <td>1</td>\n",
       "      <td>9.22</td>\n",
       "      <td>NA</td>\n",
       "      <td>1666383578</td>\n",
       "    </tr>\n",
       "    <tr>\n",
       "      <th>3</th>\n",
       "      <td>Turukhansk</td>\n",
       "      <td>65.8167</td>\n",
       "      <td>87.9833</td>\n",
       "      <td>33.91</td>\n",
       "      <td>98</td>\n",
       "      <td>100</td>\n",
       "      <td>18.41</td>\n",
       "      <td>RU</td>\n",
       "      <td>1666383578</td>\n",
       "    </tr>\n",
       "    <tr>\n",
       "      <th>4</th>\n",
       "      <td>Nikolskoye</td>\n",
       "      <td>59.7035</td>\n",
       "      <td>30.7861</td>\n",
       "      <td>42.69</td>\n",
       "      <td>93</td>\n",
       "      <td>100</td>\n",
       "      <td>3.27</td>\n",
       "      <td>RU</td>\n",
       "      <td>1666383579</td>\n",
       "    </tr>\n",
       "  </tbody>\n",
       "</table>\n",
       "</div>"
      ],
      "text/plain": [
       "                City      Lat       Lng  Max Temp  Humidity  Cloudiness  \\\n",
       "0             Hirara  24.8000  125.2833     80.28        89          97   \n",
       "1  Saint Paul Harbor  57.7900 -152.4072     49.51        46           0   \n",
       "2         Walvis Bay -22.9575   14.5053     61.75        82           1   \n",
       "3         Turukhansk  65.8167   87.9833     33.91        98         100   \n",
       "4         Nikolskoye  59.7035   30.7861     42.69        93         100   \n",
       "\n",
       "   Wind Speed Country        Date  \n",
       "0        8.28      JP  1666383577  \n",
       "1       17.27      US  1666383578  \n",
       "2        9.22      NA  1666383578  \n",
       "3       18.41      RU  1666383578  \n",
       "4        3.27      RU  1666383579  "
      ]
     },
     "execution_count": 10,
     "metadata": {},
     "output_type": "execute_result"
    }
   ],
   "source": [
    "#create dictionary with weather data\n",
    "weather_data = {'City': city_name, 'Lat':lat, 'Lng': lng, 'Max Temp': max_temp, \n",
    "              'Humidity':humidity, 'Cloudiness': cloudiness, 'Wind Speed':wind_speed, 'Country': country,\n",
    "              'Date':date}\n",
    "weather_df = pd.DataFrame(weather_data)\n",
    "\n",
    "#create CSV file \n",
    "weather_df.to_csv('WeatherPy.csv', index=False) \n",
    "weather_df.head()"
   ]
  },
  {
   "cell_type": "code",
   "execution_count": 11,
   "metadata": {},
   "outputs": [
    {
     "data": {
      "text/html": [
       "<div>\n",
       "<style scoped>\n",
       "    .dataframe tbody tr th:only-of-type {\n",
       "        vertical-align: middle;\n",
       "    }\n",
       "\n",
       "    .dataframe tbody tr th {\n",
       "        vertical-align: top;\n",
       "    }\n",
       "\n",
       "    .dataframe thead th {\n",
       "        text-align: right;\n",
       "    }\n",
       "</style>\n",
       "<table border=\"1\" class=\"dataframe\">\n",
       "  <thead>\n",
       "    <tr style=\"text-align: right;\">\n",
       "      <th></th>\n",
       "      <th>Lat</th>\n",
       "      <th>Lng</th>\n",
       "      <th>Max Temp</th>\n",
       "      <th>Humidity</th>\n",
       "      <th>Cloudiness</th>\n",
       "      <th>Wind Speed</th>\n",
       "      <th>Date</th>\n",
       "    </tr>\n",
       "  </thead>\n",
       "  <tbody>\n",
       "    <tr>\n",
       "      <th>count</th>\n",
       "      <td>569.000000</td>\n",
       "      <td>569.000000</td>\n",
       "      <td>569.000000</td>\n",
       "      <td>569.000000</td>\n",
       "      <td>569.000000</td>\n",
       "      <td>569.000000</td>\n",
       "      <td>5.690000e+02</td>\n",
       "    </tr>\n",
       "    <tr>\n",
       "      <th>mean</th>\n",
       "      <td>20.054105</td>\n",
       "      <td>17.077043</td>\n",
       "      <td>61.725835</td>\n",
       "      <td>70.885764</td>\n",
       "      <td>56.801406</td>\n",
       "      <td>8.156134</td>\n",
       "      <td>1.666384e+09</td>\n",
       "    </tr>\n",
       "    <tr>\n",
       "      <th>std</th>\n",
       "      <td>33.164974</td>\n",
       "      <td>91.023686</td>\n",
       "      <td>19.945188</td>\n",
       "      <td>22.945802</td>\n",
       "      <td>41.113690</td>\n",
       "      <td>5.909848</td>\n",
       "      <td>1.023661e+02</td>\n",
       "    </tr>\n",
       "    <tr>\n",
       "      <th>min</th>\n",
       "      <td>-54.800000</td>\n",
       "      <td>-179.166700</td>\n",
       "      <td>-5.420000</td>\n",
       "      <td>12.000000</td>\n",
       "      <td>0.000000</td>\n",
       "      <td>0.000000</td>\n",
       "      <td>1.666383e+09</td>\n",
       "    </tr>\n",
       "    <tr>\n",
       "      <th>25%</th>\n",
       "      <td>-7.963100</td>\n",
       "      <td>-58.736800</td>\n",
       "      <td>46.900000</td>\n",
       "      <td>58.000000</td>\n",
       "      <td>10.000000</td>\n",
       "      <td>3.670000</td>\n",
       "      <td>1.666384e+09</td>\n",
       "    </tr>\n",
       "    <tr>\n",
       "      <th>50%</th>\n",
       "      <td>24.687700</td>\n",
       "      <td>22.636700</td>\n",
       "      <td>66.830000</td>\n",
       "      <td>78.000000</td>\n",
       "      <td>75.000000</td>\n",
       "      <td>6.710000</td>\n",
       "      <td>1.666384e+09</td>\n",
       "    </tr>\n",
       "    <tr>\n",
       "      <th>75%</th>\n",
       "      <td>47.805900</td>\n",
       "      <td>92.170300</td>\n",
       "      <td>77.160000</td>\n",
       "      <td>88.000000</td>\n",
       "      <td>100.000000</td>\n",
       "      <td>11.100000</td>\n",
       "      <td>1.666384e+09</td>\n",
       "    </tr>\n",
       "    <tr>\n",
       "      <th>max</th>\n",
       "      <td>78.218600</td>\n",
       "      <td>179.316700</td>\n",
       "      <td>101.640000</td>\n",
       "      <td>100.000000</td>\n",
       "      <td>100.000000</td>\n",
       "      <td>37.890000</td>\n",
       "      <td>1.666384e+09</td>\n",
       "    </tr>\n",
       "  </tbody>\n",
       "</table>\n",
       "</div>"
      ],
      "text/plain": [
       "              Lat         Lng    Max Temp    Humidity  Cloudiness  Wind Speed  \\\n",
       "count  569.000000  569.000000  569.000000  569.000000  569.000000  569.000000   \n",
       "mean    20.054105   17.077043   61.725835   70.885764   56.801406    8.156134   \n",
       "std     33.164974   91.023686   19.945188   22.945802   41.113690    5.909848   \n",
       "min    -54.800000 -179.166700   -5.420000   12.000000    0.000000    0.000000   \n",
       "25%     -7.963100  -58.736800   46.900000   58.000000   10.000000    3.670000   \n",
       "50%     24.687700   22.636700   66.830000   78.000000   75.000000    6.710000   \n",
       "75%     47.805900   92.170300   77.160000   88.000000  100.000000   11.100000   \n",
       "max     78.218600  179.316700  101.640000  100.000000  100.000000   37.890000   \n",
       "\n",
       "               Date  \n",
       "count  5.690000e+02  \n",
       "mean   1.666384e+09  \n",
       "std    1.023661e+02  \n",
       "min    1.666383e+09  \n",
       "25%    1.666384e+09  \n",
       "50%    1.666384e+09  \n",
       "75%    1.666384e+09  \n",
       "max    1.666384e+09  "
      ]
     },
     "execution_count": 11,
     "metadata": {},
     "output_type": "execute_result"
    }
   ],
   "source": [
    "weather_df.describe()"
   ]
  },
  {
   "cell_type": "markdown",
   "metadata": {},
   "source": [
    "## Inspect the data and remove the cities where the humidity > 100%.\n",
    "----\n",
    "Skip this step if there are no cities that have humidity > 100%. "
   ]
  },
  {
   "cell_type": "code",
   "execution_count": 12,
   "metadata": {},
   "outputs": [
    {
     "data": {
      "text/html": [
       "<div>\n",
       "<style scoped>\n",
       "    .dataframe tbody tr th:only-of-type {\n",
       "        vertical-align: middle;\n",
       "    }\n",
       "\n",
       "    .dataframe tbody tr th {\n",
       "        vertical-align: top;\n",
       "    }\n",
       "\n",
       "    .dataframe thead th {\n",
       "        text-align: right;\n",
       "    }\n",
       "</style>\n",
       "<table border=\"1\" class=\"dataframe\">\n",
       "  <thead>\n",
       "    <tr style=\"text-align: right;\">\n",
       "      <th></th>\n",
       "      <th>City</th>\n",
       "      <th>Lat</th>\n",
       "      <th>Lng</th>\n",
       "      <th>Max Temp</th>\n",
       "      <th>Humidity</th>\n",
       "      <th>Cloudiness</th>\n",
       "      <th>Wind Speed</th>\n",
       "      <th>Country</th>\n",
       "      <th>Date</th>\n",
       "    </tr>\n",
       "  </thead>\n",
       "  <tbody>\n",
       "    <tr>\n",
       "      <th>12</th>\n",
       "      <td>Itoman</td>\n",
       "      <td>26.1247</td>\n",
       "      <td>127.6694</td>\n",
       "      <td>77.77</td>\n",
       "      <td>100</td>\n",
       "      <td>75</td>\n",
       "      <td>3.44</td>\n",
       "      <td>JP</td>\n",
       "      <td>1666383581</td>\n",
       "    </tr>\n",
       "    <tr>\n",
       "      <th>58</th>\n",
       "      <td>Kiunga</td>\n",
       "      <td>-6.1219</td>\n",
       "      <td>141.2906</td>\n",
       "      <td>72.91</td>\n",
       "      <td>100</td>\n",
       "      <td>100</td>\n",
       "      <td>2.28</td>\n",
       "      <td>PG</td>\n",
       "      <td>1666383595</td>\n",
       "    </tr>\n",
       "    <tr>\n",
       "      <th>157</th>\n",
       "      <td>Clyde River</td>\n",
       "      <td>70.4692</td>\n",
       "      <td>-68.5914</td>\n",
       "      <td>26.83</td>\n",
       "      <td>100</td>\n",
       "      <td>100</td>\n",
       "      <td>13.80</td>\n",
       "      <td>CA</td>\n",
       "      <td>1666383635</td>\n",
       "    </tr>\n",
       "    <tr>\n",
       "      <th>164</th>\n",
       "      <td>Gushikawa</td>\n",
       "      <td>26.3544</td>\n",
       "      <td>127.8686</td>\n",
       "      <td>77.00</td>\n",
       "      <td>100</td>\n",
       "      <td>75</td>\n",
       "      <td>3.44</td>\n",
       "      <td>JP</td>\n",
       "      <td>1666383638</td>\n",
       "    </tr>\n",
       "    <tr>\n",
       "      <th>180</th>\n",
       "      <td>Seoul</td>\n",
       "      <td>37.5683</td>\n",
       "      <td>126.9778</td>\n",
       "      <td>53.04</td>\n",
       "      <td>100</td>\n",
       "      <td>85</td>\n",
       "      <td>1.14</td>\n",
       "      <td>KR</td>\n",
       "      <td>1666383445</td>\n",
       "    </tr>\n",
       "  </tbody>\n",
       "</table>\n",
       "</div>"
      ],
      "text/plain": [
       "            City      Lat       Lng  Max Temp  Humidity  Cloudiness  \\\n",
       "12        Itoman  26.1247  127.6694     77.77       100          75   \n",
       "58        Kiunga  -6.1219  141.2906     72.91       100         100   \n",
       "157  Clyde River  70.4692  -68.5914     26.83       100         100   \n",
       "164    Gushikawa  26.3544  127.8686     77.00       100          75   \n",
       "180        Seoul  37.5683  126.9778     53.04       100          85   \n",
       "\n",
       "     Wind Speed Country        Date  \n",
       "12         3.44      JP  1666383581  \n",
       "58         2.28      PG  1666383595  \n",
       "157       13.80      CA  1666383635  \n",
       "164        3.44      JP  1666383638  \n",
       "180        1.14      KR  1666383445  "
      ]
     },
     "execution_count": 12,
     "metadata": {},
     "output_type": "execute_result"
    }
   ],
   "source": [
    "#  Get the indices of cities that have humidity over 100%.\n",
    "#Checking DF for humidty over 100% \n",
    "humid_cities = weather_df[weather_df['Humidity'] >= 100]\n",
    "humid_cities.head()"
   ]
  },
  {
   "cell_type": "code",
   "execution_count": 13,
   "metadata": {},
   "outputs": [
    {
     "name": "stdout",
     "output_type": "stream",
     "text": [
      "12\n",
      "Int64Index([12, 58, 157, 164, 180, 229, 276, 284, 308, 394, 416, 510], dtype='int64')\n"
     ]
    }
   ],
   "source": [
    "#Identify the number of cities that have humidity over 100% and the index numbers.\n",
    "print(len(humid_cities))\n",
    "print(humid_cities.index)"
   ]
  },
  {
   "cell_type": "code",
   "execution_count": 14,
   "metadata": {},
   "outputs": [
    {
     "data": {
      "text/html": [
       "<div>\n",
       "<style scoped>\n",
       "    .dataframe tbody tr th:only-of-type {\n",
       "        vertical-align: middle;\n",
       "    }\n",
       "\n",
       "    .dataframe tbody tr th {\n",
       "        vertical-align: top;\n",
       "    }\n",
       "\n",
       "    .dataframe thead th {\n",
       "        text-align: right;\n",
       "    }\n",
       "</style>\n",
       "<table border=\"1\" class=\"dataframe\">\n",
       "  <thead>\n",
       "    <tr style=\"text-align: right;\">\n",
       "      <th></th>\n",
       "      <th>City</th>\n",
       "      <th>Lat</th>\n",
       "      <th>Lng</th>\n",
       "      <th>Max Temp</th>\n",
       "      <th>Humidity</th>\n",
       "      <th>Cloudiness</th>\n",
       "      <th>Wind Speed</th>\n",
       "      <th>Country</th>\n",
       "      <th>Date</th>\n",
       "    </tr>\n",
       "  </thead>\n",
       "  <tbody>\n",
       "    <tr>\n",
       "      <th>0</th>\n",
       "      <td>Hirara</td>\n",
       "      <td>24.8000</td>\n",
       "      <td>125.2833</td>\n",
       "      <td>80.28</td>\n",
       "      <td>89</td>\n",
       "      <td>97</td>\n",
       "      <td>8.28</td>\n",
       "      <td>JP</td>\n",
       "      <td>1666383577</td>\n",
       "    </tr>\n",
       "    <tr>\n",
       "      <th>1</th>\n",
       "      <td>Saint Paul Harbor</td>\n",
       "      <td>57.7900</td>\n",
       "      <td>-152.4072</td>\n",
       "      <td>49.51</td>\n",
       "      <td>46</td>\n",
       "      <td>0</td>\n",
       "      <td>17.27</td>\n",
       "      <td>US</td>\n",
       "      <td>1666383578</td>\n",
       "    </tr>\n",
       "    <tr>\n",
       "      <th>2</th>\n",
       "      <td>Walvis Bay</td>\n",
       "      <td>-22.9575</td>\n",
       "      <td>14.5053</td>\n",
       "      <td>61.75</td>\n",
       "      <td>82</td>\n",
       "      <td>1</td>\n",
       "      <td>9.22</td>\n",
       "      <td>NA</td>\n",
       "      <td>1666383578</td>\n",
       "    </tr>\n",
       "    <tr>\n",
       "      <th>3</th>\n",
       "      <td>Turukhansk</td>\n",
       "      <td>65.8167</td>\n",
       "      <td>87.9833</td>\n",
       "      <td>33.91</td>\n",
       "      <td>98</td>\n",
       "      <td>100</td>\n",
       "      <td>18.41</td>\n",
       "      <td>RU</td>\n",
       "      <td>1666383578</td>\n",
       "    </tr>\n",
       "    <tr>\n",
       "      <th>4</th>\n",
       "      <td>Nikolskoye</td>\n",
       "      <td>59.7035</td>\n",
       "      <td>30.7861</td>\n",
       "      <td>42.69</td>\n",
       "      <td>93</td>\n",
       "      <td>100</td>\n",
       "      <td>3.27</td>\n",
       "      <td>RU</td>\n",
       "      <td>1666383579</td>\n",
       "    </tr>\n",
       "  </tbody>\n",
       "</table>\n",
       "</div>"
      ],
      "text/plain": [
       "                City      Lat       Lng  Max Temp  Humidity  Cloudiness  \\\n",
       "0             Hirara  24.8000  125.2833     80.28        89          97   \n",
       "1  Saint Paul Harbor  57.7900 -152.4072     49.51        46           0   \n",
       "2         Walvis Bay -22.9575   14.5053     61.75        82           1   \n",
       "3         Turukhansk  65.8167   87.9833     33.91        98         100   \n",
       "4         Nikolskoye  59.7035   30.7861     42.69        93         100   \n",
       "\n",
       "   Wind Speed Country        Date  \n",
       "0        8.28      JP  1666383577  \n",
       "1       17.27      US  1666383578  \n",
       "2        9.22      NA  1666383578  \n",
       "3       18.41      RU  1666383578  \n",
       "4        3.27      RU  1666383579  "
      ]
     },
     "execution_count": 14,
     "metadata": {},
     "output_type": "execute_result"
    }
   ],
   "source": [
    "# Make a new DataFrame equal to the city data to drop all humidity outliers by index.\n",
    "# Passing \"inplace=False\" will make a copy of the city_data DataFrame, which we call \"clean_city_data\".\n",
    "clean_city_data = weather_df.drop(humid_cities.index, inplace=False)\n",
    "clean_city_data.head()"
   ]
  },
  {
   "cell_type": "markdown",
   "metadata": {},
   "source": [
    "## Plotting the Data\n",
    "* Use proper labeling of the plots using plot titles (including date of analysis) and axes labels.\n",
    "* Save the plotted figures as .pngs."
   ]
  },
  {
   "cell_type": "markdown",
   "metadata": {},
   "source": [
    "## Latitude vs. Temperature Plot"
   ]
  },
  {
   "cell_type": "code",
   "execution_count": 15,
   "metadata": {
    "scrolled": true
   },
   "outputs": [
    {
     "data": {
      "image/png": "[encoded data removed]",
      "text/plain": [
       "<Figure size 432x288 with 1 Axes>"
      ]
     },
     "metadata": {
      "needs_background": "light"
     },
     "output_type": "display_data"
    }
   ],
   "source": [
    "clean_city_data.plot('Lat', 'Max Temp', kind='scatter')\n",
    "# Incorporate the other graph properties\n",
    "plt.title(\"Latitude vs. Temperature Plot\")\n",
    "plt.xlabel(\"Latitude\")\n",
    "plt.ylabel(\"Maximum Temperature (Celsius)\")\n",
    "\n",
    "plt.grid(True)\n",
    "\n",
    "# Save the figure\n",
    "plt.savefig(\"Latitude_v_Temperature_Plot.png\")\n",
    "\n",
    "# Show plot\n",
    "plt.show()"
   ]
  },
  {
   "cell_type": "markdown",
   "metadata": {},
   "source": [
    "The scatter plot above shows the temperatures at different latitudes arround the globe. From the plot you can see that the closer you get to the equator,transition from negative to positive Latitude, the higher the temperature gets. "
   ]
  },
  {
   "cell_type": "markdown",
   "metadata": {},
   "source": [
    "## Latitude vs. Humidity Plot"
   ]
  },
  {
   "cell_type": "code",
   "execution_count": 16,
   "metadata": {},
   "outputs": [
    {
     "data": {
      "image/png": "[encoded data removed]",
      "text/plain": [
       "<Figure size 432x288 with 1 Axes>"
      ]
     },
     "metadata": {
      "needs_background": "light"
     },
     "output_type": "display_data"
    }
   ],
   "source": [
    "clean_city_data.plot('Lat', 'Humidity', kind='scatter')\n",
    "# Incorporate the other graph properties\n",
    "plt.title(\"Latitude vs. Humidity\")\n",
    "plt.ylabel(\"Humidity\")\n",
    "plt.xlabel(\"Latitude\")\n",
    "plt.grid(True)\n",
    "\n",
    "# Save the figure\n",
    "plt.savefig(\"Latitude_v_Humidity_Plot.png\")\n",
    "\n",
    "# Show plot\n",
    "plt.show()"
   ]
  },
  {
   "cell_type": "markdown",
   "metadata": {},
   "source": [
    "The plot above represents the humidity levels at different latitudes around the globe. The plot shows that humidity levels range from 0 to 100 at all Latitudes to include the equator. There appears to be a cluster of high humidity readings in the Northern Hemisphere north of 60 degrees. "
   ]
  },
  {
   "cell_type": "markdown",
   "metadata": {},
   "source": [
    "## Latitude vs. Cloudiness Plot"
   ]
  },
  {
   "cell_type": "code",
   "execution_count": 17,
   "metadata": {},
   "outputs": [
    {
     "data": {
      "image/png": "[encoded data removed]",
      "text/plain": [
       "<Figure size 432x288 with 1 Axes>"
      ]
     },
     "metadata": {
      "needs_background": "light"
     },
     "output_type": "display_data"
    }
   ],
   "source": [
    "clean_city_data.plot('Lat', 'Cloudiness', kind='scatter')\n",
    "# Incorporate the other graph properties\n",
    "plt.title(\"Latitude vs. Cloudiness\")\n",
    "plt.xlabel(\"Latitude\")\n",
    "plt.ylabel(\"Cloudiness\")\n",
    "\n",
    "plt.grid(True)\n",
    "\n",
    "# Save the figure\n",
    "plt.savefig(\"Latitude_v_Cloudiness_Plot.png\")\n",
    "\n",
    "# Show plot\n",
    "plt.show()"
   ]
  },
  {
   "cell_type": "markdown",
   "metadata": {},
   "source": [
    "## Latitude vs. Wind Speed Plot"
   ]
  },
  {
   "cell_type": "code",
   "execution_count": 18,
   "metadata": {},
   "outputs": [
    {
     "data": {
      "image/png": "[encoded data removed]",
      "text/plain": [
       "<Figure size 432x288 with 1 Axes>"
      ]
     },
     "metadata": {
      "needs_background": "light"
     },
     "output_type": "display_data"
    }
   ],
   "source": [
    "clean_city_data.plot('Lat', 'Wind Speed', kind='scatter')\n",
    "# Incorporate the other graph properties\n",
    "plt.title(\"Latitude vs. Wind Speed\")\n",
    "plt.xlabel(\"Latitude\")\n",
    "plt.ylabel(\"Wind Speed\")\n",
    "\n",
    "plt.grid(True)\n",
    "\n",
    "# Save the figure\n",
    "plt.savefig(\"Latitude_v_WindSpeed_Plot.png\")\n",
    "\n",
    "# Show plot\n",
    "plt.show()"
   ]
  },
  {
   "cell_type": "markdown",
   "metadata": {},
   "source": [
    "Simialr to the humidty, wind speed and cloudiness levels appear to be similar regardles of latitiude. There does appear to be an increase in cloudiness and windspeed at 60 degrees Latitiude and higher. "
   ]
  },
  {
   "cell_type": "markdown",
   "metadata": {},
   "source": [
    "## Linear Regression"
   ]
  },
  {
   "cell_type": "code",
   "execution_count": 19,
   "metadata": {},
   "outputs": [],
   "source": [
    "#create new DFs for northern and southern hemishperes \n",
    "northern_hem = clean_city_data[clean_city_data['Lat'] >0]\n",
    "southern_hem = clean_city_data[clean_city_data['Lat'] <0]"
   ]
  },
  {
   "cell_type": "markdown",
   "metadata": {},
   "source": [
    "####  Northern Hemisphere - Max Temp vs. Latitude Linear Regression"
   ]
  },
  {
   "cell_type": "code",
   "execution_count": 21,
   "metadata": {},
   "outputs": [
    {
     "name": "stdout",
     "output_type": "stream",
     "text": [
      "The r-value is: -0.8508161662528535\n"
     ]
    },
    {
     "data": {
      "image/png": "[encoded data removed]",
      "text/plain": [
       "<Figure size 432x288 with 1 Axes>"
      ]
     },
     "metadata": {
      "needs_background": "light"
     },
     "output_type": "display_data"
    }
   ],
   "source": [
    "northern_hem.plot('Lat','Max Temp', kind='scatter')\n",
    "# Incorporate the other graph properties\n",
    "plt.title(\"Northern Hemisphere - Max Temp vs. Latitude Linear Regression\")\n",
    "plt.xlabel(\"Latitude\")\n",
    "plt.ylabel(\"Maximum Temperature\")\n",
    "plt.grid(True)\n",
    "#Regression set-up\n",
    "(slope, intercept, rvalue, pvalue, stderr) = linregress(northern_hem['Lat'],northern_hem['Max Temp'])\n",
    "regress_values = northern_hem['Lat'] * slope + intercept\n",
    "line_eq = \"y = \" + str(round(slope,2)) + \"x + \" + str(round(intercept,2))\n",
    "plt.annotate(line_eq,(5.8,0.8),fontsize=16,color=\"red\")\n",
    "plt.plot(northern_hem['Lat'],regress_values,\"r-\")\n",
    "print(f\"The r-value is: {rvalue}\")\n",
    "# Save the figure\n",
    "plt.savefig(\"N_Hemisphere_MaxTemp_v_Lat_LinearRegressionPlot.png\")\n",
    "\n",
    "# Show plot\n",
    "plt.show()"
   ]
  },
  {
   "cell_type": "markdown",
   "metadata": {},
   "source": [
    "####  Southern Hemisphere - Max Temp vs. Latitude Linear Regression"
   ]
  },
  {
   "cell_type": "code",
   "execution_count": 29,
   "metadata": {},
   "outputs": [
    {
     "name": "stdout",
     "output_type": "stream",
     "text": [
      "The r-value is: 0.763386130846201\n"
     ]
    },
    {
     "data": {
      "image/png": "[encoded data removed]",
      "text/plain": [
       "<Figure size 432x288 with 1 Axes>"
      ]
     },
     "metadata": {
      "needs_background": "light"
     },
     "output_type": "display_data"
    }
   ],
   "source": [
    "southern_hem.plot('Lat','Max Temp', kind='scatter')\n",
    "# Incorporate the other graph properties\n",
    "plt.title(\"Southern Hemisphere - Max Temp vs. Latitude Linear Regression\")\n",
    "plt.xlabel(\"Latitude\")\n",
    "plt.ylabel(\"Maximum Temperature\")\n",
    "plt.grid(True)\n",
    "#Regression set-up\n",
    "(slope, intercept, rvalue, pvalue, stderr) = linregress(southern_hem['Lat'],southern_hem['Max Temp'])\n",
    "regress_values = southern_hem['Lat'] * slope + intercept\n",
    "line_eq2 = \"y = \" + str(round(slope,2)) + \"x + \" + str(round(intercept,2))\n",
    "plt.annotate(line_eq2,(-30,45),fontsize=16,color=\"red\")\n",
    "plt.plot(southern_hem['Lat'],regress_values,\"r-\")\n",
    "print(f\"The r-value is: {rvalue}\")\n",
    "# Save the figure\n",
    "plt.savefig(\"S_Hemisphere_MaxTemp_vLat_LinearRegressionPlot.png\")\n",
    "\n",
    "# Show plot\n",
    "plt.show()"
   ]
  },
  {
   "cell_type": "markdown",
   "metadata": {},
   "source": [
    "The linear regression models of max temp in the Northern and Southern Hemishperes reinforce the previously mentioned conclusion that the temperature rises as you get closer to the equator. "
   ]
  },
  {
   "cell_type": "markdown",
   "metadata": {},
   "source": [
    "####  Northern Hemisphere - Humidity (%) vs. Latitude Linear Regression"
   ]
  },
  {
   "cell_type": "code",
   "execution_count": 33,
   "metadata": {},
   "outputs": [
    {
     "name": "stdout",
     "output_type": "stream",
     "text": [
      "The r-value is: 0.2530623534738637\n"
     ]
    },
    {
     "data": {
      "image/png": "[encoded data removed]",
      "text/plain": [
       "<Figure size 432x288 with 1 Axes>"
      ]
     },
     "metadata": {
      "needs_background": "light"
     },
     "output_type": "display_data"
    }
   ],
   "source": [
    "northern_hem.plot('Lat','Humidity', kind='scatter')\n",
    "# Incorporate the other graph properties\n",
    "plt.title(\"N Hemisphere - Humidity (%) vs. Latitude Linear Regression\")\n",
    "plt.xlabel(\"Latitude\")\n",
    "plt.ylabel(\"Humidity %\")\n",
    "plt.grid(True)\n",
    "#Regression set-up\n",
    "(slope, intercept, rvalue, pvalue, stderr) = linregress(northern_hem['Lat'], northern_hem['Humidity'])\n",
    "regress_values = northern_hem['Lat'] * slope + intercept\n",
    "line_eq3 = \"y = \" + str(round(slope,2)) + \"x + \" + str(round(intercept,2))\n",
    "plt.annotate(line_eq3,(45,20),fontsize=16,color=\"red\")\n",
    "plt.plot(northern_hem['Lat'],regress_values,\"r-\")\n",
    "print(f\"The r-value is: {rvalue}\")\n",
    "\n",
    "# Save the figure\n",
    "plt.savefig(\"NHemisphere_Humidity_v_Lat_Linear_RegressionPlot.png\")\n",
    "\n",
    "# Show plot\n",
    "plt.show()"
   ]
  },
  {
   "cell_type": "markdown",
   "metadata": {},
   "source": [
    "####  Southern Hemisphere - Humidity (%) vs. Latitude Linear Regression"
   ]
  },
  {
   "cell_type": "code",
   "execution_count": 37,
   "metadata": {},
   "outputs": [
    {
     "name": "stdout",
     "output_type": "stream",
     "text": [
      "The r-value is: 0.025435630481169872\n"
     ]
    },
    {
     "data": {
      "image/png": "[encoded data removed]",
      "text/plain": [
       "<Figure size 432x288 with 1 Axes>"
      ]
     },
     "metadata": {
      "needs_background": "light"
     },
     "output_type": "display_data"
    }
   ],
   "source": [
    "southern_hem.plot('Lat','Humidity', kind='scatter')\n",
    "# Incorporate the other graph properties\n",
    "plt.title(\"Southern Hemisphere - Humidity (%) vs. Latitude Linear Regression\")\n",
    "plt.xlabel(\"Latitude\")\n",
    "plt.ylabel(\"Humidity %\")\n",
    "plt.grid(True)\n",
    "#Regression set-up\n",
    "(slope, intercept, rvalue, pvalue, stderr) = linregress(southern_hem['Lat'],southern_hem['Humidity'])\n",
    "regress_values = southern_hem['Lat'] * slope + intercept\n",
    "line_eq4 = \"y = \" + str(round(slope,2)) + \"x + \" + str(round(intercept,2))\n",
    "plt.annotate(line_eq4,(-30,15),fontsize=16,color=\"red\")\n",
    "plt.plot(southern_hem['Lat'],regress_values,\"r-\")\n",
    "print(f\"The r-value is: {rvalue}\")\n",
    "# Save the figure\n",
    "plt.savefig(\"SHemisphere_Humidity_v_Lat_Linear_Regression.png\")\n",
    "\n",
    "# Show plot\n",
    "plt.show()"
   ]
  },
  {
   "cell_type": "markdown",
   "metadata": {},
   "source": [
    "It may be hard to see in the Humidity plot, but the line of the equation in the Southern Hemishpere shows that as x increases, y also increases. The increasing trend is even greater once you move in to the Northern Hemishpere. This means that the humidty rises as you progress from the Southern to Northern Hemispheres. "
   ]
  },
  {
   "cell_type": "markdown",
   "metadata": {},
   "source": [
    "####  Northern Hemisphere - Cloudiness (%) vs. Latitude Linear Regression"
   ]
  },
  {
   "cell_type": "code",
   "execution_count": 40,
   "metadata": {},
   "outputs": [
    {
     "name": "stdout",
     "output_type": "stream",
     "text": [
      "The r-value is: 0.26492474116356074\n"
     ]
    },
    {
     "data": {
      "image/png": "[encoded data removed]",
      "text/plain": [
       "<Figure size 432x288 with 1 Axes>"
      ]
     },
     "metadata": {
      "needs_background": "light"
     },
     "output_type": "display_data"
    }
   ],
   "source": [
    "northern_hem.plot('Lat', 'Cloudiness', kind='scatter')\n",
    "# Incorporate the other graph properties\n",
    "plt.title(\"Northern Hemisphere - Cloudiness (%) vs. Latitude Linear Regression\")\n",
    "plt.xlabel(\"Cloudiness %\")\n",
    "plt.ylabel(\"Latitude\")\n",
    "plt.grid(True)\n",
    "#Regression set-up\n",
    "(slope, intercept, rvalue, pvalue, stderr) = linregress(northern_hem['Lat'], northern_hem['Cloudiness'])\n",
    "regress_values = northern_hem['Lat'] * slope + intercept\n",
    "line_eq5 = \"y = \" + str(round(slope,2)) + \"x + \" + str(round(intercept,2))\n",
    "plt.annotate(line_eq5,(0.1,10),fontsize=16,color=\"red\")\n",
    "plt.plot(northern_hem['Lat'],regress_values,\"r-\")\n",
    "print(f\"The r-value is: {rvalue}\")\n",
    "# Save the figure\n",
    "plt.savefig(\"NHem_Cloudiness_v_Latitude__Plot.png\")\n",
    "\n",
    "# Show plot\n",
    "plt.show()"
   ]
  },
  {
   "cell_type": "markdown",
   "metadata": {},
   "source": [
    "####  Southern Hemisphere - Cloudiness (%) vs. Latitude Linear Regression"
   ]
  },
  {
   "cell_type": "code",
   "execution_count": 44,
   "metadata": {},
   "outputs": [
    {
     "name": "stdout",
     "output_type": "stream",
     "text": [
      "The r-value is: 0.19011153026456476\n"
     ]
    },
    {
     "data": {
      "image/png": "[encoded data removed]",
      "text/plain": [
       "<Figure size 432x288 with 1 Axes>"
      ]
     },
     "metadata": {
      "needs_background": "light"
     },
     "output_type": "display_data"
    }
   ],
   "source": [
    "southern_hem.plot('Lat','Cloudiness', kind='scatter')\n",
    "# Incorporate the other graph properties\n",
    "plt.title(\"Southern Hemisphere - Cloudiness (%) vs. Latitude Linear Regression\")\n",
    "plt.xlabel(\"Latitude\")\n",
    "plt.ylabel(\"Cloudiness %\")\n",
    "\n",
    "plt.grid(True)\n",
    "(slope, intercept, rvalue, pvalue, stderr) = linregress(southern_hem['Lat'], southern_hem['Cloudiness'])\n",
    "regress_values = southern_hem['Lat'] * slope + intercept\n",
    "line_eq6 = \"y = \" + str(round(slope,2)) + \"x + \" + str(round(intercept,2))\n",
    "plt.annotate(line_eq6,(-50,5),fontsize=16,color=\"red\")\n",
    "plt.plot(southern_hem['Lat'],regress_values,\"r-\")\n",
    "print(f\"The r-value is: {rvalue}\")\n",
    "\n",
    "# Save the figure\n",
    "plt.savefig(\"SHem_Cloudiness_v_Latitude_Plot.png\")\n",
    "\n",
    "# Show plot\n",
    "plt.show()"
   ]
  },
  {
   "cell_type": "markdown",
   "metadata": {},
   "source": [
    "The assessment of cloudiness is similar to the humidty assessment. Humidity rises as you move from the Southern to Northern Hemishperes "
   ]
  },
  {
   "cell_type": "markdown",
   "metadata": {},
   "source": [
    "####  Northern Hemisphere - Wind Speed (mph) vs. Latitude Linear Regression"
   ]
  },
  {
   "cell_type": "code",
   "execution_count": 48,
   "metadata": {},
   "outputs": [
    {
     "name": "stdout",
     "output_type": "stream",
     "text": [
      "The r-value is: 0.14330200209625477\n"
     ]
    },
    {
     "data": {
      "image/png": "[encoded data removed]",
      "text/plain": [
       "<Figure size 432x288 with 1 Axes>"
      ]
     },
     "metadata": {
      "needs_background": "light"
     },
     "output_type": "display_data"
    }
   ],
   "source": [
    "northern_hem.plot('Lat','Wind Speed', kind='scatter')\n",
    "# Incorporate the other graph properties\n",
    "plt.title(\"Northern Hemisphere - Wind Speed (mph) vs. Latitude Linear Regression\")\n",
    "plt.ylabel(\"Latitude\")\n",
    "plt.xlabel(\"Wind Speed (MPH)\")\n",
    "plt.grid(True)\n",
    "(slope, intercept, rvalue, pvalue, stderr) = linregress(northern_hem['Lat'], northern_hem['Wind Speed'])\n",
    "regress_values = northern_hem['Lat'] * slope + intercept\n",
    "line_eq7 = \"y = \" + str(round(slope,2)) + \"x + \" + str(round(intercept,2))\n",
    "plt.annotate(line_eq7,(0.8,30),fontsize=16,color=\"red\")\n",
    "plt.plot(northern_hem['Lat'],regress_values,\"r-\")\n",
    "print(f\"The r-value is: {rvalue}\")\n",
    "# Save the figure\n",
    "plt.savefig(\"NHem_WindSpeed_v_Lat_LinearRegPlot.png\")\n",
    "\n",
    "# Show plot\n",
    "plt.show()"
   ]
  },
  {
   "cell_type": "markdown",
   "metadata": {},
   "source": [
    "####  Southern Hemisphere - Wind Speed (mph) vs. Latitude Linear Regression"
   ]
  },
  {
   "cell_type": "code",
   "execution_count": 51,
   "metadata": {},
   "outputs": [
    {
     "name": "stdout",
     "output_type": "stream",
     "text": [
      "The r-value is: -0.24683802819343353\n"
     ]
    },
    {
     "data": {
      "image/png": "[encoded data removed]",
      "text/plain": [
       "<Figure size 432x288 with 1 Axes>"
      ]
     },
     "metadata": {
      "needs_background": "light"
     },
     "output_type": "display_data"
    }
   ],
   "source": [
    "southern_hem.plot('Lat','Wind Speed',  kind='scatter')\n",
    "# Incorporate the other graph properties\n",
    "plt.title(\"Southern Hemisphere - Wind Speed (mph) vs. Latitude Linear Regression\")\n",
    "plt.ylabel(\"Latitude\")\n",
    "plt.xlabel(\"Wind Speed (MPH)\")\n",
    "plt.grid(True)\n",
    "(slope, intercept, rvalue, pvalue, stderr) = linregress(southern_hem['Lat'], southern_hem['Wind Speed'])\n",
    "regress_values = southern_hem['Lat'] * slope + intercept\n",
    "line_eq8 = \"y = \" + str(round(slope,2)) + \"x + \" + str(round(intercept,2))\n",
    "plt.annotate(line_eq8,(-30,30),fontsize=16,color=\"red\")\n",
    "plt.plot(southern_hem['Lat'],regress_values,\"r-\")\n",
    "print(f\"The r-value is: {rvalue}\")\n",
    "# Save the figure\n",
    "plt.savefig(\"SHem_WindSpeed_v_Lat_LinearRegPlot.png\")\n",
    "\n",
    "# Show plot\n",
    "plt.show()"
   ]
  },
  {
   "cell_type": "markdown",
   "metadata": {},
   "source": [
    "Windspeed in the Southern Hemisphere decreases as it apporaches the equator while it increases once you cross the equator into the Northern Hemishpere"
   ]
  },
  {
   "cell_type": "markdown",
   "metadata": {},
   "source": [
    "In summary, as you approach the equator, there is an increase in maximum temperature and a decrease in wind speed. Cloud cover and humidty rise gradually as you move from the Southern Hemishepere across the equator and into the Northern Hemishpere. "
   ]
  },
  {
   "cell_type": "code",
   "execution_count": null,
   "metadata": {},
   "outputs": [],
   "source": []
  }
 ],
 "metadata": {
  "anaconda-cloud": {},
  "kernel_info": {
   "name": "python3"
  },
  "kernelspec": {
   "display_name": "PythonData",
   "language": "python",
   "name": "pythondata"
  },
  "language_info": {
   "codemirror_mode": {
    "name": "ipython",
    "version": 3
   },
   "file_extension": ".py",
   "mimetype": "text/x-python",
   "name": "python",
   "nbconvert_exporter": "python",
   "pygments_lexer": "ipython3",
   "version": "3.7.7"
  },
  "latex_envs": {
   "LaTeX_envs_menu_present": true,
   "autoclose": false,
   "autocomplete": true,
   "bibliofile": "biblio.bib",
   "cite_by": "apalike",
   "current_citInitial": 1,
   "eqLabelWithNumbers": true,
   "eqNumInitial": 1,
   "hotkeys": {
    "equation": "Ctrl-E",
    "itemize": "Ctrl-I"
   },
   "labels_anchors": false,
   "latex_user_defs": false,
   "report_style_numbering": false,
   "user_envs_cfg": false
  },
  "nteract": {
   "version": "0.12.3"
  }
 },
 "nbformat": 4,
 "nbformat_minor": 2
}
